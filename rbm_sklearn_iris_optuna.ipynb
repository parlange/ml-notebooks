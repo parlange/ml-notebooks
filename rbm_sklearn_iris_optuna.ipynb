{
  "nbformat": 4,
  "nbformat_minor": 0,
  "metadata": {
    "colab": {
      "provenance": [],
      "machine_shape": "hm",
      "gpuType": "T4",
      "toc_visible": true
    },
    "kernelspec": {
      "name": "python3",
      "display_name": "Python 3"
    },
    "language_info": {
      "name": "python"
    },
    "accelerator": "GPU"
  },
  "cells": [
    {
      "cell_type": "markdown",
      "source": [
        "## René Parlange, MSc\n",
        "### 📚 Machine Learning Course, PhD in Computer Science\n",
        "#### 🎓 Instructor: Juan Carlos Cuevas Tello, PhD\n",
        "#### 🏛 Universidad Autónoma de San Luis Potosí (UASLP)\n",
        "\n",
        "🔗 [GitHub Repository](https://github.com/parlange/ml-notebooks)"
      ],
      "metadata": {
        "id": "09KLTP-zJfQX"
      }
    },
    {
      "cell_type": "markdown",
      "source": [
        "# scikit-learn BernoulliRBM with Optuna hyperparameter search\n"
      ],
      "metadata": {
        "id": "BWo_K7HWW_nq"
      }
    },
    {
      "cell_type": "markdown",
      "source": [
        "## install optuna with pip and ! (terminal command) in Colab"
      ],
      "metadata": {
        "id": "sLIJEmedDMsn"
      }
    },
    {
      "cell_type": "code",
      "source": [
        "!pip install optuna"
      ],
      "metadata": {
        "colab": {
          "base_uri": "https://localhost:8080/"
        },
        "id": "2p-sGH3lsz3h",
        "outputId": "171e6aaf-6daf-460c-f1e6-807264b94d66"
      },
      "execution_count": null,
      "outputs": [
        {
          "output_type": "stream",
          "name": "stdout",
          "text": [
            "Collecting optuna\n",
            "  Downloading optuna-3.4.0-py3-none-any.whl (409 kB)\n",
            "\u001b[2K     \u001b[90m━━━━━━━━━━━━━━━━━━━━━━━━━━━━━━━━━━━━━━━━\u001b[0m \u001b[32m409.6/409.6 kB\u001b[0m \u001b[31m6.5 MB/s\u001b[0m eta \u001b[36m0:00:00\u001b[0m\n",
            "\u001b[?25hCollecting alembic>=1.5.0 (from optuna)\n",
            "  Downloading alembic-1.12.0-py3-none-any.whl (226 kB)\n",
            "\u001b[2K     \u001b[90m━━━━━━━━━━━━━━━━━━━━━━━━━━━━━━━━━━━━━━━━\u001b[0m \u001b[32m226.0/226.0 kB\u001b[0m \u001b[31m25.5 MB/s\u001b[0m eta \u001b[36m0:00:00\u001b[0m\n",
            "\u001b[?25hCollecting colorlog (from optuna)\n",
            "  Downloading colorlog-6.7.0-py2.py3-none-any.whl (11 kB)\n",
            "Requirement already satisfied: numpy in /usr/local/lib/python3.10/dist-packages (from optuna) (1.23.5)\n",
            "Requirement already satisfied: packaging>=20.0 in /usr/local/lib/python3.10/dist-packages (from optuna) (23.2)\n",
            "Requirement already satisfied: sqlalchemy>=1.3.0 in /usr/local/lib/python3.10/dist-packages (from optuna) (2.0.21)\n",
            "Requirement already satisfied: tqdm in /usr/local/lib/python3.10/dist-packages (from optuna) (4.66.1)\n",
            "Requirement already satisfied: PyYAML in /usr/local/lib/python3.10/dist-packages (from optuna) (6.0.1)\n",
            "Collecting Mako (from alembic>=1.5.0->optuna)\n",
            "  Downloading Mako-1.2.4-py3-none-any.whl (78 kB)\n",
            "\u001b[2K     \u001b[90m━━━━━━━━━━━━━━━━━━━━━━━━━━━━━━━━━━━━━━━━\u001b[0m \u001b[32m78.7/78.7 kB\u001b[0m \u001b[31m9.9 MB/s\u001b[0m eta \u001b[36m0:00:00\u001b[0m\n",
            "\u001b[?25hRequirement already satisfied: typing-extensions>=4 in /usr/local/lib/python3.10/dist-packages (from alembic>=1.5.0->optuna) (4.5.0)\n",
            "Requirement already satisfied: greenlet!=0.4.17 in /usr/local/lib/python3.10/dist-packages (from sqlalchemy>=1.3.0->optuna) (3.0.0)\n",
            "Requirement already satisfied: MarkupSafe>=0.9.2 in /usr/local/lib/python3.10/dist-packages (from Mako->alembic>=1.5.0->optuna) (2.1.3)\n",
            "Installing collected packages: Mako, colorlog, alembic, optuna\n",
            "Successfully installed Mako-1.2.4 alembic-1.12.0 colorlog-6.7.0 optuna-3.4.0\n"
          ]
        }
      ]
    },
    {
      "cell_type": "markdown",
      "source": [
        "## dataset: iris"
      ],
      "metadata": {
        "id": "E1ABGoxnXTmr"
      }
    },
    {
      "cell_type": "code",
      "execution_count": null,
      "metadata": {
        "colab": {
          "base_uri": "https://localhost:8080/"
        },
        "id": "BPR2AbTqsY7y",
        "outputId": "8528781c-dbd6-4c9a-c85d-2a73b1c0fe11"
      },
      "outputs": [
        {
          "output_type": "stream",
          "name": "stderr",
          "text": [
            "[I 2023-10-18 02:02:16,188] A new study created in memory with name: no-name-6d6993e4-ac40-4f7c-b199-ec3e8c038e5c\n",
            "[I 2023-10-18 02:02:16,316] Trial 0 finished with value: 0.3916666666666666 and parameters: {'n_components': 100, 'learning_rate': 0.020601656878434963, 'batch_size': 9, 'n_iter': 40}. Best is trial 0 with value: 0.3916666666666666.\n",
            "[I 2023-10-18 02:02:16,404] Trial 1 finished with value: 0.7833333333333333 and parameters: {'n_components': 200, 'learning_rate': 0.047451433356188594, 'batch_size': 19, 'n_iter': 20}. Best is trial 1 with value: 0.7833333333333333.\n",
            "[I 2023-10-18 02:02:16,484] Trial 2 finished with value: 0.7333333333333333 and parameters: {'n_components': 100, 'learning_rate': 0.03389092752872026, 'batch_size': 19, 'n_iter': 30}. Best is trial 1 with value: 0.7833333333333333.\n",
            "[I 2023-10-18 02:02:16,675] Trial 3 finished with value: 0.7583333333333334 and parameters: {'n_components': 200, 'learning_rate': 0.053336519197159926, 'batch_size': 1, 'n_iter': 10}. Best is trial 1 with value: 0.7833333333333333.\n",
            "[I 2023-10-18 02:02:16,990] Trial 4 finished with value: 0.45 and parameters: {'n_components': 200, 'learning_rate': 0.03769542055513592, 'batch_size': 1, 'n_iter': 20}. Best is trial 1 with value: 0.7833333333333333.\n",
            "[I 2023-10-18 02:02:17,057] Trial 5 finished with value: 0.39999999999999997 and parameters: {'n_components': 150, 'learning_rate': 0.03564075981136098, 'batch_size': 6, 'n_iter': 10}. Best is trial 1 with value: 0.7833333333333333.\n",
            "[I 2023-10-18 02:02:17,115] Trial 6 finished with value: 0.39999999999999997 and parameters: {'n_components': 150, 'learning_rate': 0.07169528548961715, 'batch_size': 16, 'n_iter': 10}. Best is trial 1 with value: 0.7833333333333333.\n",
            "[I 2023-10-18 02:02:17,183] Trial 7 finished with value: 0.41666666666666663 and parameters: {'n_components': 100, 'learning_rate': 0.04992498717336024, 'batch_size': 16, 'n_iter': 20}. Best is trial 1 with value: 0.7833333333333333.\n",
            "[I 2023-10-18 02:02:17,341] Trial 8 finished with value: 0.39999999999999997 and parameters: {'n_components': 150, 'learning_rate': 0.010026016222987457, 'batch_size': 3, 'n_iter': 20}. Best is trial 1 with value: 0.7833333333333333.\n",
            "[I 2023-10-18 02:02:17,419] Trial 9 finished with value: 0.7416666666666667 and parameters: {'n_components': 50, 'learning_rate': 0.02816814580272252, 'batch_size': 18, 'n_iter': 40}. Best is trial 1 with value: 0.7833333333333333.\n",
            "[I 2023-10-18 02:02:17,545] Trial 10 finished with value: 0.4666666666666666 and parameters: {'n_components': 200, 'learning_rate': 0.09787504063154231, 'batch_size': 12, 'n_iter': 30}. Best is trial 1 with value: 0.7833333333333333.\n",
            "[I 2023-10-18 02:02:17,631] Trial 11 finished with value: 0.4833333333333334 and parameters: {'n_components': 200, 'learning_rate': 0.058205493629426036, 'batch_size': 12, 'n_iter': 10}. Best is trial 1 with value: 0.7833333333333333.\n",
            "[I 2023-10-18 02:02:17,740] Trial 12 finished with value: 0.4666666666666666 and parameters: {'n_components': 200, 'learning_rate': 0.054719011652239795, 'batch_size': 8, 'n_iter': 10}. Best is trial 1 with value: 0.7833333333333333.\n",
            "[I 2023-10-18 02:02:17,867] Trial 13 finished with value: 0.7 and parameters: {'n_components': 200, 'learning_rate': 0.08101560128101244, 'batch_size': 5, 'n_iter': 20}. Best is trial 1 with value: 0.7833333333333333.\n",
            "[I 2023-10-18 02:02:17,984] Trial 14 finished with value: 0.39999999999999997 and parameters: {'n_components': 150, 'learning_rate': 0.04827651153366163, 'batch_size': 14, 'n_iter': 30}. Best is trial 1 with value: 0.7833333333333333.\n",
            "[I 2023-10-18 02:02:18,069] Trial 15 finished with value: 0.5083333333333333 and parameters: {'n_components': 200, 'learning_rate': 0.07069046844797691, 'batch_size': 20, 'n_iter': 10}. Best is trial 1 with value: 0.7833333333333333.\n",
            "[I 2023-10-18 02:02:18,238] Trial 16 finished with value: 0.4416666666666666 and parameters: {'n_components': 50, 'learning_rate': 0.04418739626586527, 'batch_size': 2, 'n_iter': 20}. Best is trial 1 with value: 0.7833333333333333.\n",
            "[I 2023-10-18 02:02:18,324] Trial 17 finished with value: 0.4666666666666666 and parameters: {'n_components': 150, 'learning_rate': 0.062306096534169485, 'batch_size': 6, 'n_iter': 10}. Best is trial 1 with value: 0.7833333333333333.\n",
            "[I 2023-10-18 02:02:18,439] Trial 18 finished with value: 0.39999999999999997 and parameters: {'n_components': 200, 'learning_rate': 0.09014886943237682, 'batch_size': 11, 'n_iter': 20}. Best is trial 1 with value: 0.7833333333333333.\n",
            "[I 2023-10-18 02:02:18,565] Trial 19 finished with value: 0.39999999999999997 and parameters: {'n_components': 150, 'learning_rate': 0.06828653882923874, 'batch_size': 14, 'n_iter': 30}. Best is trial 1 with value: 0.7833333333333333.\n",
            "[I 2023-10-18 02:02:18,664] Trial 20 finished with value: 0.525 and parameters: {'n_components': 200, 'learning_rate': 0.04150514461033032, 'batch_size': 9, 'n_iter': 10}. Best is trial 1 with value: 0.7833333333333333.\n",
            "[I 2023-10-18 02:02:18,766] Trial 21 finished with value: 0.7416666666666667 and parameters: {'n_components': 50, 'learning_rate': 0.028952107314976192, 'batch_size': 18, 'n_iter': 40}. Best is trial 1 with value: 0.7833333333333333.\n",
            "[I 2023-10-18 02:02:18,866] Trial 22 finished with value: 0.3916666666666666 and parameters: {'n_components': 50, 'learning_rate': 0.02651989961435817, 'batch_size': 17, 'n_iter': 40}. Best is trial 1 with value: 0.7833333333333333.\n",
            "[I 2023-10-18 02:02:18,962] Trial 23 finished with value: 0.3916666666666666 and parameters: {'n_components': 100, 'learning_rate': 0.045070904334445605, 'batch_size': 20, 'n_iter': 30}. Best is trial 1 with value: 0.7833333333333333.\n",
            "[I 2023-10-18 02:02:19,069] Trial 24 finished with value: 0.6250000000000001 and parameters: {'n_components': 50, 'learning_rate': 0.02430447120300497, 'batch_size': 15, 'n_iter': 40}. Best is trial 1 with value: 0.7833333333333333.\n",
            "[I 2023-10-18 02:02:19,156] Trial 25 finished with value: 0.7416666666666668 and parameters: {'n_components': 100, 'learning_rate': 0.05584238923407509, 'batch_size': 18, 'n_iter': 20}. Best is trial 1 with value: 0.7833333333333333.\n",
            "[I 2023-10-18 02:02:19,296] Trial 26 finished with value: 0.4583333333333333 and parameters: {'n_components': 100, 'learning_rate': 0.05698764813874537, 'batch_size': 4, 'n_iter': 20}. Best is trial 1 with value: 0.7833333333333333.\n",
            "[I 2023-10-18 02:02:19,404] Trial 27 finished with value: 0.39999999999999997 and parameters: {'n_components': 150, 'learning_rate': 0.08131585910153045, 'batch_size': 14, 'n_iter': 20}. Best is trial 1 with value: 0.7833333333333333.\n",
            "[I 2023-10-18 02:02:19,482] Trial 28 finished with value: 0.7333333333333333 and parameters: {'n_components': 100, 'learning_rate': 0.05025145539264755, 'batch_size': 19, 'n_iter': 20}. Best is trial 1 with value: 0.7833333333333333.\n",
            "[I 2023-10-18 02:02:19,569] Trial 29 finished with value: 0.45 and parameters: {'n_components': 150, 'learning_rate': 0.04044989312702736, 'batch_size': 9, 'n_iter': 10}. Best is trial 1 with value: 0.7833333333333333.\n",
            "[I 2023-10-18 02:02:19,664] Trial 30 finished with value: 0.3916666666666666 and parameters: {'n_components': 100, 'learning_rate': 0.06264102541817906, 'batch_size': 7, 'n_iter': 20}. Best is trial 1 with value: 0.7833333333333333.\n",
            "[I 2023-10-18 02:02:19,760] Trial 31 finished with value: 0.7416666666666667 and parameters: {'n_components': 50, 'learning_rate': 0.029565360520399587, 'batch_size': 18, 'n_iter': 40}. Best is trial 1 with value: 0.7833333333333333.\n",
            "[I 2023-10-18 02:02:19,848] Trial 32 finished with value: 0.7416666666666666 and parameters: {'n_components': 50, 'learning_rate': 0.03420641775643568, 'batch_size': 18, 'n_iter': 30}. Best is trial 1 with value: 0.7833333333333333.\n",
            "[I 2023-10-18 02:02:19,955] Trial 33 finished with value: 0.3916666666666666 and parameters: {'n_components': 100, 'learning_rate': 0.03815265691070836, 'batch_size': 16, 'n_iter': 30}. Best is trial 1 with value: 0.7833333333333333.\n",
            "[I 2023-10-18 02:02:20,065] Trial 34 finished with value: 0.39999999999999997 and parameters: {'n_components': 200, 'learning_rate': 0.03409642366837419, 'batch_size': 20, 'n_iter': 20}. Best is trial 1 with value: 0.7833333333333333.\n",
            "[I 2023-10-18 02:02:20,479] Trial 35 finished with value: 0.4083333333333333 and parameters: {'n_components': 50, 'learning_rate': 0.04340768711870748, 'batch_size': 1, 'n_iter': 30}. Best is trial 1 with value: 0.7833333333333333.\n",
            "[I 2023-10-18 02:02:20,600] Trial 36 finished with value: 0.3916666666666666 and parameters: {'n_components': 100, 'learning_rate': 0.054510638697079124, 'batch_size': 17, 'n_iter': 40}. Best is trial 1 with value: 0.7833333333333333.\n",
            "[I 2023-10-18 02:02:20,690] Trial 37 finished with value: 0.75 and parameters: {'n_components': 150, 'learning_rate': 0.03704930774868903, 'batch_size': 19, 'n_iter': 10}. Best is trial 1 with value: 0.7833333333333333.\n",
            "[I 2023-10-18 02:02:20,761] Trial 38 finished with value: 0.7416666666666667 and parameters: {'n_components': 150, 'learning_rate': 0.03790018928467606, 'batch_size': 19, 'n_iter': 10}. Best is trial 1 with value: 0.7833333333333333.\n",
            "[I 2023-10-18 02:02:20,859] Trial 39 finished with value: 0.5833333333333334 and parameters: {'n_components': 200, 'learning_rate': 0.04843330423014503, 'batch_size': 15, 'n_iter': 10}. Best is trial 1 with value: 0.7833333333333333.\n",
            "[I 2023-10-18 02:02:20,938] Trial 40 finished with value: 0.3916666666666666 and parameters: {'n_components': 150, 'learning_rate': 0.03246778449430215, 'batch_size': 17, 'n_iter': 10}. Best is trial 1 with value: 0.7833333333333333.\n",
            "[I 2023-10-18 02:02:21,036] Trial 41 finished with value: 0.7583333333333333 and parameters: {'n_components': 200, 'learning_rate': 0.03702004666690641, 'batch_size': 19, 'n_iter': 20}. Best is trial 1 with value: 0.7833333333333333.\n",
            "[I 2023-10-18 02:02:21,132] Trial 42 finished with value: 0.7583333333333333 and parameters: {'n_components': 200, 'learning_rate': 0.03933161312157411, 'batch_size': 19, 'n_iter': 20}. Best is trial 1 with value: 0.7833333333333333.\n",
            "[I 2023-10-18 02:02:21,230] Trial 43 finished with value: 0.7583333333333333 and parameters: {'n_components': 200, 'learning_rate': 0.0374461486071248, 'batch_size': 19, 'n_iter': 20}. Best is trial 1 with value: 0.7833333333333333.\n",
            "[I 2023-10-18 02:02:21,337] Trial 44 finished with value: 0.39999999999999997 and parameters: {'n_components': 200, 'learning_rate': 0.032142761808158504, 'batch_size': 20, 'n_iter': 20}. Best is trial 1 with value: 0.7833333333333333.\n",
            "[I 2023-10-18 02:02:21,445] Trial 45 finished with value: 0.39999999999999997 and parameters: {'n_components': 200, 'learning_rate': 0.04171799419588183, 'batch_size': 16, 'n_iter': 20}. Best is trial 1 with value: 0.7833333333333333.\n",
            "[I 2023-10-18 02:02:21,552] Trial 46 finished with value: 0.39999999999999997 and parameters: {'n_components': 200, 'learning_rate': 0.04683688201417717, 'batch_size': 12, 'n_iter': 20}. Best is trial 1 with value: 0.7833333333333333.\n",
            "[I 2023-10-18 02:02:21,650] Trial 47 finished with value: 0.7583333333333333 and parameters: {'n_components': 200, 'learning_rate': 0.0359726274008314, 'batch_size': 19, 'n_iter': 20}. Best is trial 1 with value: 0.7833333333333333.\n",
            "[I 2023-10-18 02:02:21,806] Trial 48 finished with value: 0.4666666666666666 and parameters: {'n_components': 200, 'learning_rate': 0.05090490986758573, 'batch_size': 3, 'n_iter': 20}. Best is trial 1 with value: 0.7833333333333333.\n",
            "[I 2023-10-18 02:02:21,912] Trial 49 finished with value: 0.5666666666666667 and parameters: {'n_components': 200, 'learning_rate': 0.040422031960987606, 'batch_size': 13, 'n_iter': 20}. Best is trial 1 with value: 0.7833333333333333.\n",
            "[I 2023-10-18 02:02:22,041] Trial 50 finished with value: 0.3916666666666666 and parameters: {'n_components': 200, 'learning_rate': 0.045080781201743685, 'batch_size': 17, 'n_iter': 30}. Best is trial 1 with value: 0.7833333333333333.\n",
            "[I 2023-10-18 02:02:22,138] Trial 51 finished with value: 0.7583333333333333 and parameters: {'n_components': 200, 'learning_rate': 0.03823169472692874, 'batch_size': 19, 'n_iter': 20}. Best is trial 1 with value: 0.7833333333333333.\n",
            "[I 2023-10-18 02:02:22,246] Trial 52 finished with value: 0.3916666666666666 and parameters: {'n_components': 200, 'learning_rate': 0.03577387369534202, 'batch_size': 20, 'n_iter': 20}. Best is trial 1 with value: 0.7833333333333333.\n",
            "[I 2023-10-18 02:02:22,343] Trial 53 finished with value: 0.7666666666666667 and parameters: {'n_components': 200, 'learning_rate': 0.031939529438790075, 'batch_size': 19, 'n_iter': 20}. Best is trial 1 with value: 0.7833333333333333.\n",
            "[I 2023-10-18 02:02:22,439] Trial 54 finished with value: 0.39999999999999997 and parameters: {'n_components': 200, 'learning_rate': 0.03041808242842242, 'batch_size': 16, 'n_iter': 20}. Best is trial 1 with value: 0.7833333333333333.\n",
            "[I 2023-10-18 02:02:22,553] Trial 55 finished with value: 0.6666666666666667 and parameters: {'n_components': 200, 'learning_rate': 0.026178467801475883, 'batch_size': 18, 'n_iter': 20}. Best is trial 1 with value: 0.7833333333333333.\n",
            "[I 2023-10-18 02:02:22,673] Trial 56 finished with value: 0.4083333333333333 and parameters: {'n_components': 200, 'learning_rate': 0.03135369015208975, 'batch_size': 11, 'n_iter': 20}. Best is trial 1 with value: 0.7833333333333333.\n",
            "[I 2023-10-18 02:02:22,763] Trial 57 finished with value: 0.5666666666666667 and parameters: {'n_components': 200, 'learning_rate': 0.04366972844205633, 'batch_size': 15, 'n_iter': 10}. Best is trial 1 with value: 0.7833333333333333.\n",
            "[I 2023-10-18 02:02:22,881] Trial 58 finished with value: 0.39999999999999997 and parameters: {'n_components': 200, 'learning_rate': 0.022789786176925245, 'batch_size': 10, 'n_iter': 20}. Best is trial 1 with value: 0.7833333333333333.\n",
            "[I 2023-10-18 02:02:22,987] Trial 59 finished with value: 0.39999999999999997 and parameters: {'n_components': 200, 'learning_rate': 0.03335349701416606, 'batch_size': 20, 'n_iter': 20}. Best is trial 1 with value: 0.7833333333333333.\n",
            "[I 2023-10-18 02:02:23,074] Trial 60 finished with value: 0.3916666666666666 and parameters: {'n_components': 200, 'learning_rate': 0.05158312947562134, 'batch_size': 17, 'n_iter': 10}. Best is trial 1 with value: 0.7833333333333333.\n",
            "[I 2023-10-18 02:02:23,174] Trial 61 finished with value: 0.7583333333333333 and parameters: {'n_components': 200, 'learning_rate': 0.03556502349755907, 'batch_size': 19, 'n_iter': 20}. Best is trial 1 with value: 0.7833333333333333.\n",
            "[I 2023-10-18 02:02:23,282] Trial 62 finished with value: 0.7166666666666667 and parameters: {'n_components': 200, 'learning_rate': 0.03946576391598082, 'batch_size': 18, 'n_iter': 20}. Best is trial 1 with value: 0.7833333333333333.\n",
            "[I 2023-10-18 02:02:23,385] Trial 63 finished with value: 0.775 and parameters: {'n_components': 200, 'learning_rate': 0.045870534022921065, 'batch_size': 19, 'n_iter': 20}. Best is trial 1 with value: 0.7833333333333333.\n",
            "[I 2023-10-18 02:02:23,484] Trial 64 finished with value: 0.7666666666666667 and parameters: {'n_components': 200, 'learning_rate': 0.0466642819736115, 'batch_size': 19, 'n_iter': 20}. Best is trial 1 with value: 0.7833333333333333.\n",
            "[I 2023-10-18 02:02:23,622] Trial 65 finished with value: 0.6333333333333333 and parameters: {'n_components': 200, 'learning_rate': 0.05960017795950118, 'batch_size': 5, 'n_iter': 20}. Best is trial 1 with value: 0.7833333333333333.\n",
            "[I 2023-10-18 02:02:23,767] Trial 66 finished with value: 0.5916666666666667 and parameters: {'n_components': 200, 'learning_rate': 0.04793077321798506, 'batch_size': 18, 'n_iter': 30}. Best is trial 1 with value: 0.7833333333333333.\n",
            "[I 2023-10-18 02:02:23,874] Trial 67 finished with value: 0.3916666666666666 and parameters: {'n_components': 150, 'learning_rate': 0.05301267571174403, 'batch_size': 20, 'n_iter': 20}. Best is trial 1 with value: 0.7833333333333333.\n",
            "[I 2023-10-18 02:02:24,044] Trial 68 finished with value: 0.5416666666666667 and parameters: {'n_components': 200, 'learning_rate': 0.04713996912139848, 'batch_size': 7, 'n_iter': 30}. Best is trial 1 with value: 0.7833333333333333.\n",
            "[I 2023-10-18 02:02:24,154] Trial 69 finished with value: 0.3916666666666666 and parameters: {'n_components': 200, 'learning_rate': 0.04287988454190371, 'batch_size': 20, 'n_iter': 20}. Best is trial 1 with value: 0.7833333333333333.\n",
            "[I 2023-10-18 02:02:24,293] Trial 70 finished with value: 0.5333333333333333 and parameters: {'n_components': 150, 'learning_rate': 0.06267509539305581, 'batch_size': 2, 'n_iter': 10}. Best is trial 1 with value: 0.7833333333333333.\n",
            "[I 2023-10-18 02:02:24,403] Trial 71 finished with value: 0.7666666666666667 and parameters: {'n_components': 200, 'learning_rate': 0.04075399246543453, 'batch_size': 19, 'n_iter': 20}. Best is trial 1 with value: 0.7833333333333333.\n",
            "[I 2023-10-18 02:02:24,502] Trial 72 finished with value: 0.7666666666666667 and parameters: {'n_components': 200, 'learning_rate': 0.04124282424750395, 'batch_size': 19, 'n_iter': 20}. Best is trial 1 with value: 0.7833333333333333.\n",
            "[I 2023-10-18 02:02:24,618] Trial 73 finished with value: 0.725 and parameters: {'n_components': 200, 'learning_rate': 0.04197183398814761, 'batch_size': 18, 'n_iter': 20}. Best is trial 1 with value: 0.7833333333333333.\n",
            "[I 2023-10-18 02:02:24,728] Trial 74 finished with value: 0.7916666666666666 and parameters: {'n_components': 200, 'learning_rate': 0.05033812179851824, 'batch_size': 19, 'n_iter': 20}. Best is trial 74 with value: 0.7916666666666666.\n",
            "[I 2023-10-18 02:02:24,851] Trial 75 finished with value: 0.425 and parameters: {'n_components': 200, 'learning_rate': 0.054717055418924604, 'batch_size': 17, 'n_iter': 20}. Best is trial 74 with value: 0.7916666666666666.\n",
            "[I 2023-10-18 02:02:24,962] Trial 76 finished with value: 0.3916666666666666 and parameters: {'n_components': 200, 'learning_rate': 0.05028582545923412, 'batch_size': 20, 'n_iter': 20}. Best is trial 74 with value: 0.7916666666666666.\n",
            "[I 2023-10-18 02:02:25,075] Trial 77 finished with value: 0.39999999999999997 and parameters: {'n_components': 200, 'learning_rate': 0.045651554942997385, 'batch_size': 16, 'n_iter': 20}. Best is trial 74 with value: 0.7916666666666666.\n",
            "[I 2023-10-18 02:02:25,185] Trial 78 finished with value: 0.7083333333333333 and parameters: {'n_components': 200, 'learning_rate': 0.05789088742781805, 'batch_size': 18, 'n_iter': 20}. Best is trial 74 with value: 0.7916666666666666.\n",
            "[I 2023-10-18 02:02:25,264] Trial 79 finished with value: 0.775 and parameters: {'n_components': 200, 'learning_rate': 0.04909925123044361, 'batch_size': 19, 'n_iter': 10}. Best is trial 74 with value: 0.7916666666666666.\n",
            "[I 2023-10-18 02:02:25,344] Trial 80 finished with value: 0.7583333333333333 and parameters: {'n_components': 200, 'learning_rate': 0.044595955124485304, 'batch_size': 19, 'n_iter': 10}. Best is trial 74 with value: 0.7916666666666666.\n",
            "[I 2023-10-18 02:02:25,412] Trial 81 finished with value: 0.7833333333333333 and parameters: {'n_components': 200, 'learning_rate': 0.05262282058620111, 'batch_size': 19, 'n_iter': 10}. Best is trial 74 with value: 0.7916666666666666.\n",
            "[I 2023-10-18 02:02:25,489] Trial 82 finished with value: 0.7666666666666666 and parameters: {'n_components': 200, 'learning_rate': 0.0488491489786614, 'batch_size': 19, 'n_iter': 10}. Best is trial 74 with value: 0.7916666666666666.\n",
            "[I 2023-10-18 02:02:25,580] Trial 83 finished with value: 0.3916666666666666 and parameters: {'n_components': 200, 'learning_rate': 0.05310342460451871, 'batch_size': 17, 'n_iter': 10}. Best is trial 74 with value: 0.7916666666666666.\n",
            "[I 2023-10-18 02:02:25,668] Trial 84 finished with value: 0.7583333333333333 and parameters: {'n_components': 200, 'learning_rate': 0.04141938666588492, 'batch_size': 18, 'n_iter': 10}. Best is trial 74 with value: 0.7916666666666666.\n",
            "[I 2023-10-18 02:02:25,745] Trial 85 finished with value: 0.3916666666666666 and parameters: {'n_components': 200, 'learning_rate': 0.046596144420273454, 'batch_size': 20, 'n_iter': 10}. Best is trial 74 with value: 0.7916666666666666.\n",
            "[I 2023-10-18 02:02:25,852] Trial 86 finished with value: 0.7166666666666667 and parameters: {'n_components': 200, 'learning_rate': 0.0445249315696845, 'batch_size': 18, 'n_iter': 20}. Best is trial 74 with value: 0.7916666666666666.\n",
            "[I 2023-10-18 02:02:25,953] Trial 87 finished with value: 0.7833333333333333 and parameters: {'n_components': 200, 'learning_rate': 0.04914470539839612, 'batch_size': 19, 'n_iter': 20}. Best is trial 74 with value: 0.7916666666666666.\n",
            "[I 2023-10-18 02:02:26,082] Trial 88 finished with value: 0.3916666666666666 and parameters: {'n_components': 200, 'learning_rate': 0.050502703015343, 'batch_size': 20, 'n_iter': 30}. Best is trial 74 with value: 0.7916666666666666.\n",
            "[I 2023-10-18 02:02:26,170] Trial 89 finished with value: 0.7416666666666666 and parameters: {'n_components': 150, 'learning_rate': 0.054875628975146834, 'batch_size': 19, 'n_iter': 20}. Best is trial 74 with value: 0.7916666666666666.\n",
            "[I 2023-10-18 02:02:26,280] Trial 90 finished with value: 0.39999999999999997 and parameters: {'n_components': 200, 'learning_rate': 0.04793657882735382, 'batch_size': 17, 'n_iter': 20}. Best is trial 74 with value: 0.7916666666666666.\n",
            "[I 2023-10-18 02:02:26,378] Trial 91 finished with value: 0.7916666666666666 and parameters: {'n_components': 200, 'learning_rate': 0.05260619481107794, 'batch_size': 19, 'n_iter': 20}. Best is trial 74 with value: 0.7916666666666666.\n",
            "[I 2023-10-18 02:02:26,484] Trial 92 finished with value: 0.7166666666666667 and parameters: {'n_components': 200, 'learning_rate': 0.05219367552554698, 'batch_size': 18, 'n_iter': 20}. Best is trial 74 with value: 0.7916666666666666.\n",
            "[I 2023-10-18 02:02:26,584] Trial 93 finished with value: 0.7999999999999999 and parameters: {'n_components': 200, 'learning_rate': 0.058014995316886836, 'batch_size': 19, 'n_iter': 20}. Best is trial 93 with value: 0.7999999999999999.\n",
            "[I 2023-10-18 02:02:26,685] Trial 94 finished with value: 0.45 and parameters: {'n_components': 200, 'learning_rate': 0.06027718924494235, 'batch_size': 20, 'n_iter': 20}. Best is trial 93 with value: 0.7999999999999999.\n",
            "[I 2023-10-18 02:02:26,793] Trial 95 finished with value: 0.7333333333333334 and parameters: {'n_components': 200, 'learning_rate': 0.06529824112273816, 'batch_size': 18, 'n_iter': 20}. Best is trial 93 with value: 0.7999999999999999.\n",
            "[I 2023-10-18 02:02:26,891] Trial 96 finished with value: 0.7916666666666666 and parameters: {'n_components': 200, 'learning_rate': 0.05835782121321704, 'batch_size': 19, 'n_iter': 20}. Best is trial 93 with value: 0.7999999999999999.\n",
            "[I 2023-10-18 02:02:26,981] Trial 97 finished with value: 0.3916666666666666 and parameters: {'n_components': 200, 'learning_rate': 0.05715934790836557, 'batch_size': 17, 'n_iter': 10}. Best is trial 93 with value: 0.7999999999999999.\n",
            "[I 2023-10-18 02:02:27,090] Trial 98 finished with value: 0.39999999999999997 and parameters: {'n_components': 200, 'learning_rate': 0.05709355248086051, 'batch_size': 20, 'n_iter': 20}. Best is trial 93 with value: 0.7999999999999999.\n",
            "[I 2023-10-18 02:02:27,189] Trial 99 finished with value: 0.8083333333333332 and parameters: {'n_components': 200, 'learning_rate': 0.06737136093388048, 'batch_size': 19, 'n_iter': 20}. Best is trial 99 with value: 0.8083333333333332.\n"
          ]
        },
        {
          "output_type": "stream",
          "name": "stdout",
          "text": [
            "Best trial score: 0.8083333333333332\n",
            "Best trial params: {'n_components': 200, 'learning_rate': 0.06737136093388048, 'batch_size': 19, 'n_iter': 20}\n",
            "\n",
            "Classification Report with Best Model:\n",
            "               precision    recall  f1-score   support\n",
            "\n",
            "           0       0.91      1.00      0.95        10\n",
            "           1       1.00      0.78      0.88         9\n",
            "           2       0.92      1.00      0.96        11\n",
            "\n",
            "    accuracy                           0.93        30\n",
            "   macro avg       0.94      0.93      0.93        30\n",
            "weighted avg       0.94      0.93      0.93        30\n",
            "\n",
            "\n",
            "Optuna optimization execution time: 11.002410173416138 seconds\n",
            "\n",
            "Total execution time: 11.053030729293823 seconds\n"
          ]
        }
      ],
      "source": [
        "import numpy as np\n",
        "import optuna\n",
        "import time\n",
        "from sklearn.neural_network import BernoulliRBM\n",
        "from sklearn.linear_model import LogisticRegression\n",
        "from sklearn.pipeline import Pipeline\n",
        "from sklearn.datasets import load_iris\n",
        "from sklearn.preprocessing import minmax_scale\n",
        "from sklearn.model_selection import train_test_split, cross_val_score\n",
        "\n",
        "# Load the IRIS dataset\n",
        "iris = load_iris()\n",
        "\n",
        "# Features\n",
        "X = iris.data\n",
        "# Targets\n",
        "Y = iris.target\n",
        "\n",
        "# Min-max scaling\n",
        "X_scaled = minmax_scale(X, feature_range=(0, 1))\n",
        "\n",
        "# Split the data into training and testing sets\n",
        "X_train, X_test, y_train, y_test = train_test_split(X_scaled, Y, test_size=0.2, random_state=42)\n",
        "\n",
        "def objective(trial):\n",
        "    n_components = trial.suggest_int(\"n_components\", 50, 200, step=50)\n",
        "    learning_rate = trial.suggest_float(\"learning_rate\", 0.01, 0.1, log=True)\n",
        "    batch_size = trial.suggest_int(\"batch_size\", 1, 20)\n",
        "    n_iter = trial.suggest_int(\"n_iter\", 10, 40, step=10)\n",
        "\n",
        "    rbm = BernoulliRBM(n_components=n_components, learning_rate=learning_rate, batch_size=batch_size, n_iter=n_iter, random_state=42, verbose=False)\n",
        "    classifier = LogisticRegression(max_iter=1000)\n",
        "\n",
        "    pipeline = Pipeline(steps=[('rbm', rbm), ('classifier', classifier)])\n",
        "\n",
        "    return cross_val_score(pipeline, X_train, y_train, n_jobs=-1, cv=5).mean()\n",
        "\n",
        "start_time_optuna = time.time()\n",
        "\n",
        "# Optuna study\n",
        "study = optuna.create_study(direction=\"maximize\")\n",
        "study.optimize(objective, n_trials=100)\n",
        "\n",
        "end_time_optuna = time.time()\n",
        "\n",
        "print(f\"Best trial score: {study.best_value}\")\n",
        "print(f\"Best trial params: {study.best_params}\")\n",
        "\n",
        "# Train with best hyperparameters\n",
        "best_params = study.best_params\n",
        "rbm_best = BernoulliRBM(n_components=best_params[\"n_components\"], learning_rate=best_params[\"learning_rate\"], batch_size=best_params[\"batch_size\"], n_iter=best_params[\"n_iter\"], random_state=42)\n",
        "classifier_best = LogisticRegression(max_iter=1000)\n",
        "\n",
        "pipeline_best = Pipeline(steps=[('rbm', rbm_best), ('classifier', classifier_best)])\n",
        "pipeline_best.fit(X_train, y_train)\n",
        "\n",
        "# Evaluate the best model on the test set\n",
        "y_pred_best = pipeline_best.predict(X_test)\n",
        "from sklearn.metrics import classification_report\n",
        "print('\\nClassification Report with Best Model:\\n', classification_report(y_test, y_pred_best, zero_division=1))\n",
        "\n",
        "print(f\"\\nOptuna optimization execution time: {end_time_optuna - start_time_optuna} seconds\")\n",
        "\n",
        "total_end_time = time.time()\n",
        "print(f\"\\nTotal execution time: {total_end_time - start_time_optuna} seconds\")"
      ]
    }
  ]
}