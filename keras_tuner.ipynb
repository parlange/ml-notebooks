{
  "cells": [
    {
      "cell_type": "markdown",
      "source": [
        "## René Parlange, MSc\n",
        "### 📚 Machine Learning Course, PhD in Computer Science\n",
        "#### 🎓 Instructor: Juan Carlos Cuevas Tello, PhD\n",
        "#### 🏛 Universidad Autónoma de San Luis Potosí (UASLP)\n",
        "\n",
        "🔗 [GitHub Repository](https://github.com/parlange/ml-notebooks)"
      ],
      "metadata": {
        "id": "AqT1NiRq_PX7"
      }
    },
    {
      "cell_type": "markdown",
      "metadata": {
        "id": "Tce3stUlHN0L"
      },
      "source": [
        "## Copyright 2020 The TensorFlow Authors."
      ]
    },
    {
      "cell_type": "code",
      "execution_count": null,
      "metadata": {
        "id": "tuOe1ymfHZPu"
      },
      "outputs": [],
      "source": [
        "#@title Licensed under the Apache License, Version 2.0 (the \"License\");\n",
        "# you may not use this file except in compliance with the License.\n",
        "# You may obtain a copy of the License at\n",
        "#\n",
        "# https://www.apache.org/licenses/LICENSE-2.0\n",
        "#\n",
        "# Unless required by applicable law or agreed to in writing, software\n",
        "# distributed under the License is distributed on an \"AS IS\" BASIS,\n",
        "# WITHOUT WARRANTIES OR CONDITIONS OF ANY KIND, either express or implied.\n",
        "# See the License for the specific language governing permissions and\n",
        "# limitations under the License."
      ]
    },
    {
      "cell_type": "markdown",
      "metadata": {
        "id": "qFdPvlXBOdUN"
      },
      "source": [
        "# Introduction to the Keras Tuner"
      ]
    },
    {
      "cell_type": "markdown",
      "metadata": {
        "id": "MfBg1C5NB3X0"
      },
      "source": [
        "<table class=\"tfo-notebook-buttons\" align=\"left\">\n",
        "  <td>\n",
        "    <a target=\"_blank\" href=\"https://www.tensorflow.org/tutorials/keras/keras_tuner\"><img src=\"https://www.tensorflow.org/images/tf_logo_32px.png\" />View on TensorFlow.org</a>\n",
        "  </td>\n",
        "  <td>\n",
        "    <a target=\"_blank\" href=\"https://colab.research.google.com/github/tensorflow/docs/blob/master/site/en/tutorials/keras/keras_tuner.ipynb\"><img src=\"https://www.tensorflow.org/images/colab_logo_32px.png\" />Run in Google Colab</a>\n",
        "  </td>\n",
        "  <td>\n",
        "    <a target=\"_blank\" href=\"https://github.com/tensorflow/docs/blob/master/site/en/tutorials/keras/keras_tuner.ipynb\"><img src=\"https://www.tensorflow.org/images/GitHub-Mark-32px.png\" />View source on GitHub</a>\n",
        "  </td>\n",
        "  <td>\n",
        "    <a href=\"https://storage.googleapis.com/tensorflow_docs/docs/site/en/tutorials/keras/keras_tuner.ipynb\"><img src=\"https://www.tensorflow.org/images/download_logo_32px.png\" />Download notebook</a>\n",
        "  </td>\n",
        "</table>"
      ]
    },
    {
      "cell_type": "markdown",
      "metadata": {
        "id": "xHxb-dlhMIzW"
      },
      "source": [
        "## Overview\n",
        "\n",
        "The Keras Tuner is a library that helps you pick the optimal set of hyperparameters for your TensorFlow program. The process of selecting the right set of hyperparameters for your machine learning (ML) application is called *hyperparameter tuning* or *hypertuning*.\n",
        "\n",
        "Hyperparameters are the variables that govern the training process and the topology of an ML model. These variables remain constant over the training process and directly impact the performance of your ML program. Hyperparameters are of two types:\n",
        "1. **Model hyperparameters** which influence model selection such as the number and width of hidden layers\n",
        "2. **Algorithm hyperparameters** which influence the speed and quality of the learning algorithm such as the learning rate for Stochastic Gradient Descent (SGD) and the number of nearest neighbors for a k Nearest Neighbors (KNN) classifier\n",
        "\n",
        "In this tutorial, you will use the Keras Tuner to perform hypertuning for an image classification application."
      ]
    },
    {
      "cell_type": "markdown",
      "metadata": {
        "id": "MUXex9ctTuDB"
      },
      "source": [
        "## Setup"
      ]
    },
    {
      "cell_type": "code",
      "execution_count": null,
      "metadata": {
        "id": "IqR2PQG4ZaZ0"
      },
      "outputs": [],
      "source": [
        "import tensorflow as tf\n",
        "from tensorflow import keras"
      ]
    },
    {
      "cell_type": "markdown",
      "metadata": {
        "id": "g83Lwsy-Aq2_"
      },
      "source": [
        "Install and import the Keras Tuner."
      ]
    },
    {
      "cell_type": "code",
      "execution_count": null,
      "metadata": {
        "id": "hpMLpbt9jcO6",
        "colab": {
          "base_uri": "https://localhost:8080/"
        },
        "outputId": "6d4ca5c7-e85f-4806-d6d7-2b8826de3933"
      },
      "outputs": [
        {
          "output_type": "stream",
          "name": "stdout",
          "text": [
            "\u001b[2K     \u001b[90m━━━━━━━━━━━━━━━━━━━━━━━━━━━━━━━━━━━━━━━\u001b[0m \u001b[32m128.0/128.0 kB\u001b[0m \u001b[31m2.9 MB/s\u001b[0m eta \u001b[36m0:00:00\u001b[0m\n",
            "\u001b[2K     \u001b[90m━━━━━━━━━━━━━━━━━━━━━━━━━━━━━━━━━━━━━━\u001b[0m \u001b[32m950.8/950.8 kB\u001b[0m \u001b[31m12.4 MB/s\u001b[0m eta \u001b[36m0:00:00\u001b[0m\n",
            "\u001b[?25h"
          ]
        }
      ],
      "source": [
        "!pip install -q -U keras-tuner"
      ]
    },
    {
      "cell_type": "code",
      "execution_count": null,
      "metadata": {
        "id": "_leAIdFKAxAD",
        "colab": {
          "base_uri": "https://localhost:8080/"
        },
        "outputId": "abbd0a8c-1c18-407d-865d-a8f518d4f3e9"
      },
      "outputs": [
        {
          "output_type": "stream",
          "name": "stdout",
          "text": [
            "Using TensorFlow backend\n"
          ]
        }
      ],
      "source": [
        "import keras_tuner as kt"
      ]
    },
    {
      "cell_type": "markdown",
      "metadata": {
        "id": "ReV_UXOgCZvx"
      },
      "source": [
        "## Download and prepare the dataset\n",
        "\n",
        "In this tutorial, you will use the Keras Tuner to find the best hyperparameters for a machine learning model that classifies images of clothing from the [Fashion MNIST dataset](https://github.com/zalandoresearch/fashion-mnist)."
      ]
    },
    {
      "cell_type": "markdown",
      "metadata": {
        "id": "HljH_ENLEdHa"
      },
      "source": [
        "Load the data."
      ]
    },
    {
      "cell_type": "code",
      "execution_count": null,
      "metadata": {
        "id": "OHlHs9Wj_PUM",
        "colab": {
          "base_uri": "https://localhost:8080/"
        },
        "outputId": "6922f37d-0138-4c55-a068-9f6193a65601"
      },
      "outputs": [
        {
          "output_type": "stream",
          "name": "stdout",
          "text": [
            "Downloading data from https://storage.googleapis.com/tensorflow/tf-keras-datasets/train-labels-idx1-ubyte.gz\n",
            "29515/29515 [==============================] - 0s 0us/step\n",
            "Downloading data from https://storage.googleapis.com/tensorflow/tf-keras-datasets/train-images-idx3-ubyte.gz\n",
            "26421880/26421880 [==============================] - 1s 0us/step\n",
            "Downloading data from https://storage.googleapis.com/tensorflow/tf-keras-datasets/t10k-labels-idx1-ubyte.gz\n",
            "5148/5148 [==============================] - 0s 0us/step\n",
            "Downloading data from https://storage.googleapis.com/tensorflow/tf-keras-datasets/t10k-images-idx3-ubyte.gz\n",
            "4422102/4422102 [==============================] - 1s 0us/step\n"
          ]
        }
      ],
      "source": [
        "(img_train, label_train), (img_test, label_test) = keras.datasets.fashion_mnist.load_data()"
      ]
    },
    {
      "cell_type": "code",
      "execution_count": null,
      "metadata": {
        "id": "bLVhXs3xrUD0"
      },
      "outputs": [],
      "source": [
        "# Normalize pixel values between 0 and 1\n",
        "img_train = img_train.astype('float32') / 255.0\n",
        "img_test = img_test.astype('float32') / 255.0"
      ]
    },
    {
      "cell_type": "markdown",
      "metadata": {
        "id": "K5YEL2H2Ax3e"
      },
      "source": [
        "## Define the model\n",
        "\n",
        "When you build a model for hypertuning, you also define the hyperparameter search space in addition to the model architecture. The model you set up for hypertuning is called a *hypermodel*.\n",
        "\n",
        "You can define a hypermodel through two approaches:\n",
        "\n",
        "* By using a model builder function\n",
        "* By subclassing the `HyperModel` class of the Keras Tuner API\n",
        "\n",
        "You can also use two pre-defined [HyperModel](https://keras.io/api/keras_tuner/hypermodels/) classes - [HyperXception](https://keras.io/api/keras_tuner/hypermodels/hyper_xception/) and [HyperResNet](https://keras.io/api/keras_tuner/hypermodels/hyper_resnet/) for computer vision applications.\n",
        "\n",
        "In this tutorial, you use a model builder function to define the image classification model. The model builder function returns a compiled model and uses hyperparameters you define inline to hypertune the model."
      ]
    },
    {
      "cell_type": "code",
      "execution_count": null,
      "metadata": {
        "id": "ZQKodC-jtsva"
      },
      "outputs": [],
      "source": [
        "def model_builder(hp):\n",
        "  model = keras.Sequential()\n",
        "  model.add(keras.layers.Flatten(input_shape=(28, 28)))\n",
        "\n",
        "  # Tune the number of units in the first Dense layer\n",
        "  # Choose an optimal value between 32-512\n",
        "  hp_units = hp.Int('units', min_value=32, max_value=512, step=32)\n",
        "  model.add(keras.layers.Dense(units=hp_units, activation='relu'))\n",
        "  model.add(keras.layers.Dense(10))\n",
        "\n",
        "  # Tune the learning rate for the optimizer\n",
        "  # Choose an optimal value from 0.01, 0.001, or 0.0001\n",
        "  hp_learning_rate = hp.Choice('learning_rate', values=[1e-2, 1e-3, 1e-4])\n",
        "\n",
        "  model.compile(optimizer=keras.optimizers.Adam(learning_rate=hp_learning_rate),\n",
        "                loss=keras.losses.SparseCategoricalCrossentropy(from_logits=True),\n",
        "                metrics=['accuracy'])\n",
        "\n",
        "  return model"
      ]
    },
    {
      "cell_type": "markdown",
      "metadata": {
        "id": "0J1VYw4q3x0b"
      },
      "source": [
        "## Instantiate the tuner and perform hypertuning\n",
        "\n",
        "Instantiate the tuner to perform the hypertuning. The Keras Tuner has four tuners available - `RandomSearch`, `Hyperband`, `BayesianOptimization`, and `Sklearn`. In this tutorial, you use the [Hyperband](https://arxiv.org/pdf/1603.06560.pdf) tuner.\n",
        "\n",
        "To instantiate the Hyperband tuner, you must specify the hypermodel, the `objective` to optimize and the maximum number of epochs to train (`max_epochs`)."
      ]
    },
    {
      "cell_type": "code",
      "execution_count": null,
      "metadata": {
        "id": "oichQFly6Y46"
      },
      "outputs": [],
      "source": [
        "tuner = kt.Hyperband(model_builder,\n",
        "                     objective='val_accuracy',\n",
        "                     max_epochs=10,\n",
        "                     factor=3,\n",
        "                     directory='my_dir',\n",
        "                     project_name='intro_to_kt')"
      ]
    },
    {
      "cell_type": "markdown",
      "metadata": {
        "id": "VaIhhdKf9VtI"
      },
      "source": [
        "The Hyperband tuning algorithm uses adaptive resource allocation and early-stopping to quickly converge on a high-performing model. This is done using a sports championship style bracket. The algorithm trains a large number of models for a few epochs and carries forward only the top-performing half of models to the next round. Hyperband determines the number of models to train in a bracket by computing 1 + log<sub>`factor`</sub>(`max_epochs`) and rounding it up to the nearest integer."
      ]
    },
    {
      "cell_type": "markdown",
      "metadata": {
        "id": "cwhBdXx0Ekj8"
      },
      "source": [
        "Create a callback to stop training early after reaching a certain value for the validation loss."
      ]
    },
    {
      "cell_type": "code",
      "execution_count": null,
      "metadata": {
        "id": "WT9IkS9NEjLc"
      },
      "outputs": [],
      "source": [
        "stop_early = tf.keras.callbacks.EarlyStopping(monitor='val_loss', patience=5)"
      ]
    },
    {
      "cell_type": "markdown",
      "metadata": {
        "id": "UKghEo15Tduy"
      },
      "source": [
        "Run the hyperparameter search. The arguments for the search method are the same as those used for `tf.keras.model.fit` in addition to the callback above."
      ]
    },
    {
      "cell_type": "code",
      "execution_count": null,
      "metadata": {
        "id": "dSBQcTHF9cKt",
        "colab": {
          "base_uri": "https://localhost:8080/"
        },
        "outputId": "46dc966c-a559-4db1-dd13-baff48e7e8dd"
      },
      "outputs": [
        {
          "output_type": "stream",
          "name": "stdout",
          "text": [
            "Trial 30 Complete [00h 00m 55s]\n",
            "val_accuracy: 0.8580833077430725\n",
            "\n",
            "Best val_accuracy So Far: 0.893916666507721\n",
            "Total elapsed time: 00h 14m 44s\n",
            "\n",
            "The hyperparameter search is complete. The optimal number of units in the first densely-connected\n",
            "layer is 288 and the optimal learning rate for the optimizer\n",
            "is 0.001.\n",
            "\n"
          ]
        }
      ],
      "source": [
        "tuner.search(img_train, label_train, epochs=50, validation_split=0.2, callbacks=[stop_early])\n",
        "\n",
        "# Get the optimal hyperparameters\n",
        "best_hps=tuner.get_best_hyperparameters(num_trials=1)[0]\n",
        "\n",
        "print(f\"\"\"\n",
        "The hyperparameter search is complete. The optimal number of units in the first densely-connected\n",
        "layer is {best_hps.get('units')} and the optimal learning rate for the optimizer\n",
        "is {best_hps.get('learning_rate')}.\n",
        "\"\"\")"
      ]
    },
    {
      "cell_type": "markdown",
      "metadata": {
        "id": "Lak_ylf88xBv"
      },
      "source": [
        "## Train the model\n",
        "\n",
        "Find the optimal number of epochs to train the model with the hyperparameters obtained from the search."
      ]
    },
    {
      "cell_type": "code",
      "execution_count": null,
      "metadata": {
        "id": "McO82AXOuxXh",
        "colab": {
          "base_uri": "https://localhost:8080/"
        },
        "outputId": "884fbe1f-1a33-4188-8dfd-f33027802ef0"
      },
      "outputs": [
        {
          "output_type": "stream",
          "name": "stdout",
          "text": [
            "Epoch 1/50\n",
            "1500/1500 [==============================] - 6s 3ms/step - loss: 0.5041 - accuracy: 0.8210 - val_loss: 0.3970 - val_accuracy: 0.8610\n",
            "Epoch 2/50\n",
            "1500/1500 [==============================] - 6s 4ms/step - loss: 0.3747 - accuracy: 0.8639 - val_loss: 0.3682 - val_accuracy: 0.8668\n",
            "Epoch 3/50\n",
            "1500/1500 [==============================] - 4s 3ms/step - loss: 0.3371 - accuracy: 0.8760 - val_loss: 0.3559 - val_accuracy: 0.8734\n",
            "Epoch 4/50\n",
            "1500/1500 [==============================] - 5s 3ms/step - loss: 0.3083 - accuracy: 0.8863 - val_loss: 0.3371 - val_accuracy: 0.8818\n",
            "Epoch 5/50\n",
            "1500/1500 [==============================] - 5s 4ms/step - loss: 0.2906 - accuracy: 0.8930 - val_loss: 0.3302 - val_accuracy: 0.8824\n",
            "Epoch 6/50\n",
            "1500/1500 [==============================] - 5s 3ms/step - loss: 0.2733 - accuracy: 0.8984 - val_loss: 0.3213 - val_accuracy: 0.8836\n",
            "Epoch 7/50\n",
            "1500/1500 [==============================] - 5s 3ms/step - loss: 0.2606 - accuracy: 0.9029 - val_loss: 0.3505 - val_accuracy: 0.8769\n",
            "Epoch 8/50\n",
            "1500/1500 [==============================] - 5s 3ms/step - loss: 0.2477 - accuracy: 0.9070 - val_loss: 0.3314 - val_accuracy: 0.8813\n",
            "Epoch 9/50\n",
            "1500/1500 [==============================] - 5s 3ms/step - loss: 0.2367 - accuracy: 0.9107 - val_loss: 0.3192 - val_accuracy: 0.8888\n",
            "Epoch 10/50\n",
            "1500/1500 [==============================] - 5s 4ms/step - loss: 0.2279 - accuracy: 0.9154 - val_loss: 0.3259 - val_accuracy: 0.8888\n",
            "Epoch 11/50\n",
            "1500/1500 [==============================] - 5s 3ms/step - loss: 0.2195 - accuracy: 0.9171 - val_loss: 0.3165 - val_accuracy: 0.8895\n",
            "Epoch 12/50\n",
            "1500/1500 [==============================] - 5s 3ms/step - loss: 0.2111 - accuracy: 0.9203 - val_loss: 0.3129 - val_accuracy: 0.8931\n",
            "Epoch 13/50\n",
            "1500/1500 [==============================] - 6s 4ms/step - loss: 0.2006 - accuracy: 0.9236 - val_loss: 0.3252 - val_accuracy: 0.8917\n",
            "Epoch 14/50\n",
            "1500/1500 [==============================] - 5s 3ms/step - loss: 0.1982 - accuracy: 0.9242 - val_loss: 0.3360 - val_accuracy: 0.8858\n",
            "Epoch 15/50\n",
            "1500/1500 [==============================] - 5s 4ms/step - loss: 0.1901 - accuracy: 0.9281 - val_loss: 0.3234 - val_accuracy: 0.8917\n",
            "Epoch 16/50\n",
            "1500/1500 [==============================] - 5s 3ms/step - loss: 0.1821 - accuracy: 0.9315 - val_loss: 0.3217 - val_accuracy: 0.8934\n",
            "Epoch 17/50\n",
            "1500/1500 [==============================] - 5s 3ms/step - loss: 0.1760 - accuracy: 0.9327 - val_loss: 0.3360 - val_accuracy: 0.8942\n",
            "Epoch 18/50\n",
            "1500/1500 [==============================] - 5s 4ms/step - loss: 0.1692 - accuracy: 0.9364 - val_loss: 0.3446 - val_accuracy: 0.8923\n",
            "Epoch 19/50\n",
            "1500/1500 [==============================] - 5s 3ms/step - loss: 0.1669 - accuracy: 0.9366 - val_loss: 0.3471 - val_accuracy: 0.8912\n",
            "Epoch 20/50\n",
            "1500/1500 [==============================] - 5s 3ms/step - loss: 0.1610 - accuracy: 0.9400 - val_loss: 0.3362 - val_accuracy: 0.8924\n",
            "Epoch 21/50\n",
            "1500/1500 [==============================] - 5s 4ms/step - loss: 0.1570 - accuracy: 0.9411 - val_loss: 0.3403 - val_accuracy: 0.8971\n",
            "Epoch 22/50\n",
            "1500/1500 [==============================] - 5s 3ms/step - loss: 0.1508 - accuracy: 0.9436 - val_loss: 0.3567 - val_accuracy: 0.8910\n",
            "Epoch 23/50\n",
            "1500/1500 [==============================] - 5s 4ms/step - loss: 0.1464 - accuracy: 0.9456 - val_loss: 0.3584 - val_accuracy: 0.8953\n",
            "Epoch 24/50\n",
            "1500/1500 [==============================] - 5s 3ms/step - loss: 0.1420 - accuracy: 0.9466 - val_loss: 0.3870 - val_accuracy: 0.8882\n",
            "Epoch 25/50\n",
            "1500/1500 [==============================] - 5s 3ms/step - loss: 0.1400 - accuracy: 0.9474 - val_loss: 0.3695 - val_accuracy: 0.8949\n",
            "Epoch 26/50\n",
            "1500/1500 [==============================] - 6s 4ms/step - loss: 0.1347 - accuracy: 0.9492 - val_loss: 0.3798 - val_accuracy: 0.8944\n",
            "Epoch 27/50\n",
            "1500/1500 [==============================] - 5s 3ms/step - loss: 0.1323 - accuracy: 0.9500 - val_loss: 0.3789 - val_accuracy: 0.8920\n",
            "Epoch 28/50\n",
            "1500/1500 [==============================] - 5s 3ms/step - loss: 0.1269 - accuracy: 0.9522 - val_loss: 0.3904 - val_accuracy: 0.8912\n",
            "Epoch 29/50\n",
            "1500/1500 [==============================] - 5s 3ms/step - loss: 0.1248 - accuracy: 0.9524 - val_loss: 0.3965 - val_accuracy: 0.8910\n",
            "Epoch 30/50\n",
            "1500/1500 [==============================] - 5s 3ms/step - loss: 0.1198 - accuracy: 0.9559 - val_loss: 0.4145 - val_accuracy: 0.8932\n",
            "Epoch 31/50\n",
            "1500/1500 [==============================] - 6s 4ms/step - loss: 0.1161 - accuracy: 0.9555 - val_loss: 0.4008 - val_accuracy: 0.8982\n",
            "Epoch 32/50\n",
            "1500/1500 [==============================] - 5s 3ms/step - loss: 0.1155 - accuracy: 0.9563 - val_loss: 0.4290 - val_accuracy: 0.8916\n",
            "Epoch 33/50\n",
            "1500/1500 [==============================] - 5s 3ms/step - loss: 0.1123 - accuracy: 0.9582 - val_loss: 0.4228 - val_accuracy: 0.8886\n",
            "Epoch 34/50\n",
            "1500/1500 [==============================] - 6s 4ms/step - loss: 0.1100 - accuracy: 0.9584 - val_loss: 0.4342 - val_accuracy: 0.8947\n",
            "Epoch 35/50\n",
            "1500/1500 [==============================] - 5s 3ms/step - loss: 0.1092 - accuracy: 0.9591 - val_loss: 0.4321 - val_accuracy: 0.8852\n",
            "Epoch 36/50\n",
            "1500/1500 [==============================] - 5s 3ms/step - loss: 0.1053 - accuracy: 0.9600 - val_loss: 0.4403 - val_accuracy: 0.8926\n",
            "Epoch 37/50\n",
            "1500/1500 [==============================] - 5s 3ms/step - loss: 0.1018 - accuracy: 0.9613 - val_loss: 0.4598 - val_accuracy: 0.8903\n",
            "Epoch 38/50\n",
            "1500/1500 [==============================] - 5s 3ms/step - loss: 0.0990 - accuracy: 0.9623 - val_loss: 0.4543 - val_accuracy: 0.8953\n",
            "Epoch 39/50\n",
            "1500/1500 [==============================] - 5s 4ms/step - loss: 0.0971 - accuracy: 0.9631 - val_loss: 0.4455 - val_accuracy: 0.8927\n",
            "Epoch 40/50\n",
            "1500/1500 [==============================] - 5s 3ms/step - loss: 0.0976 - accuracy: 0.9637 - val_loss: 0.4750 - val_accuracy: 0.8934\n",
            "Epoch 41/50\n",
            "1500/1500 [==============================] - 5s 3ms/step - loss: 0.0925 - accuracy: 0.9655 - val_loss: 0.4779 - val_accuracy: 0.8932\n",
            "Epoch 42/50\n",
            "1500/1500 [==============================] - 5s 4ms/step - loss: 0.0906 - accuracy: 0.9657 - val_loss: 0.4978 - val_accuracy: 0.8921\n",
            "Epoch 43/50\n",
            "1500/1500 [==============================] - 5s 3ms/step - loss: 0.0880 - accuracy: 0.9666 - val_loss: 0.4911 - val_accuracy: 0.8938\n",
            "Epoch 44/50\n",
            "1500/1500 [==============================] - 5s 4ms/step - loss: 0.0870 - accuracy: 0.9670 - val_loss: 0.4757 - val_accuracy: 0.8932\n",
            "Epoch 45/50\n",
            "1500/1500 [==============================] - 5s 3ms/step - loss: 0.0895 - accuracy: 0.9664 - val_loss: 0.4839 - val_accuracy: 0.8922\n",
            "Epoch 46/50\n",
            "1500/1500 [==============================] - 5s 3ms/step - loss: 0.0849 - accuracy: 0.9680 - val_loss: 0.4961 - val_accuracy: 0.8908\n",
            "Epoch 47/50\n",
            "1500/1500 [==============================] - 5s 4ms/step - loss: 0.0859 - accuracy: 0.9672 - val_loss: 0.5240 - val_accuracy: 0.8922\n",
            "Epoch 48/50\n",
            "1500/1500 [==============================] - 5s 3ms/step - loss: 0.0791 - accuracy: 0.9697 - val_loss: 0.5168 - val_accuracy: 0.8938\n",
            "Epoch 49/50\n",
            "1500/1500 [==============================] - 5s 3ms/step - loss: 0.0837 - accuracy: 0.9688 - val_loss: 0.5237 - val_accuracy: 0.8932\n",
            "Epoch 50/50\n",
            "1500/1500 [==============================] - 6s 4ms/step - loss: 0.0753 - accuracy: 0.9714 - val_loss: 0.5099 - val_accuracy: 0.8897\n",
            "Best epoch: 31\n"
          ]
        }
      ],
      "source": [
        "# Build the model with the optimal hyperparameters and train it on the data for 50 epochs\n",
        "model = tuner.hypermodel.build(best_hps)\n",
        "history = model.fit(img_train, label_train, epochs=50, validation_split=0.2)\n",
        "\n",
        "val_acc_per_epoch = history.history['val_accuracy']\n",
        "best_epoch = val_acc_per_epoch.index(max(val_acc_per_epoch)) + 1\n",
        "print('Best epoch: %d' % (best_epoch,))"
      ]
    },
    {
      "cell_type": "markdown",
      "metadata": {
        "id": "uOTSirSTI3Gp"
      },
      "source": [
        "Re-instantiate the hypermodel and train it with the optimal number of epochs from above."
      ]
    },
    {
      "cell_type": "code",
      "execution_count": null,
      "metadata": {
        "id": "NoiPUEHmMhCe",
        "colab": {
          "base_uri": "https://localhost:8080/"
        },
        "outputId": "466cc215-8214-423c-e5a0-0ac2f534ba86"
      },
      "outputs": [
        {
          "output_type": "stream",
          "name": "stdout",
          "text": [
            "Epoch 1/31\n",
            "1500/1500 [==============================] - 5s 3ms/step - loss: 0.5020 - accuracy: 0.8200 - val_loss: 0.4097 - val_accuracy: 0.8475\n",
            "Epoch 2/31\n",
            "1500/1500 [==============================] - 5s 4ms/step - loss: 0.3743 - accuracy: 0.8629 - val_loss: 0.3801 - val_accuracy: 0.8592\n",
            "Epoch 3/31\n",
            "1500/1500 [==============================] - 5s 3ms/step - loss: 0.3300 - accuracy: 0.8777 - val_loss: 0.3739 - val_accuracy: 0.8598\n",
            "Epoch 4/31\n",
            "1500/1500 [==============================] - 5s 3ms/step - loss: 0.3064 - accuracy: 0.8863 - val_loss: 0.3439 - val_accuracy: 0.8774\n",
            "Epoch 5/31\n",
            "1500/1500 [==============================] - 5s 4ms/step - loss: 0.2870 - accuracy: 0.8938 - val_loss: 0.3182 - val_accuracy: 0.8836\n",
            "Epoch 6/31\n",
            "1500/1500 [==============================] - 5s 3ms/step - loss: 0.2731 - accuracy: 0.8991 - val_loss: 0.3130 - val_accuracy: 0.8873\n",
            "Epoch 7/31\n",
            "1500/1500 [==============================] - 5s 4ms/step - loss: 0.2569 - accuracy: 0.9042 - val_loss: 0.3355 - val_accuracy: 0.8787\n",
            "Epoch 8/31\n",
            "1500/1500 [==============================] - 5s 3ms/step - loss: 0.2481 - accuracy: 0.9062 - val_loss: 0.3388 - val_accuracy: 0.8783\n",
            "Epoch 9/31\n",
            "1500/1500 [==============================] - 5s 3ms/step - loss: 0.2346 - accuracy: 0.9120 - val_loss: 0.3240 - val_accuracy: 0.8882\n",
            "Epoch 10/31\n",
            "1500/1500 [==============================] - 6s 4ms/step - loss: 0.2273 - accuracy: 0.9148 - val_loss: 0.3258 - val_accuracy: 0.8852\n",
            "Epoch 11/31\n",
            "1500/1500 [==============================] - 4s 3ms/step - loss: 0.2189 - accuracy: 0.9174 - val_loss: 0.3277 - val_accuracy: 0.8877\n",
            "Epoch 12/31\n",
            "1500/1500 [==============================] - 5s 3ms/step - loss: 0.2103 - accuracy: 0.9202 - val_loss: 0.3218 - val_accuracy: 0.8900\n",
            "Epoch 13/31\n",
            "1500/1500 [==============================] - 5s 4ms/step - loss: 0.2025 - accuracy: 0.9231 - val_loss: 0.3472 - val_accuracy: 0.8847\n",
            "Epoch 14/31\n",
            "1500/1500 [==============================] - 4s 3ms/step - loss: 0.1941 - accuracy: 0.9258 - val_loss: 0.3212 - val_accuracy: 0.8927\n",
            "Epoch 15/31\n",
            "1500/1500 [==============================] - 5s 4ms/step - loss: 0.1890 - accuracy: 0.9277 - val_loss: 0.3078 - val_accuracy: 0.8985\n",
            "Epoch 16/31\n",
            "1500/1500 [==============================] - 5s 3ms/step - loss: 0.1811 - accuracy: 0.9315 - val_loss: 0.3271 - val_accuracy: 0.8950\n",
            "Epoch 17/31\n",
            "1500/1500 [==============================] - 4s 3ms/step - loss: 0.1761 - accuracy: 0.9327 - val_loss: 0.3183 - val_accuracy: 0.8957\n",
            "Epoch 18/31\n",
            "1500/1500 [==============================] - 5s 4ms/step - loss: 0.1714 - accuracy: 0.9364 - val_loss: 0.3198 - val_accuracy: 0.8963\n",
            "Epoch 19/31\n",
            "1500/1500 [==============================] - 5s 3ms/step - loss: 0.1638 - accuracy: 0.9383 - val_loss: 0.3388 - val_accuracy: 0.8903\n",
            "Epoch 20/31\n",
            "1500/1500 [==============================] - 5s 4ms/step - loss: 0.1585 - accuracy: 0.9403 - val_loss: 0.3266 - val_accuracy: 0.8942\n",
            "Epoch 21/31\n",
            "1500/1500 [==============================] - 5s 3ms/step - loss: 0.1534 - accuracy: 0.9421 - val_loss: 0.3660 - val_accuracy: 0.8882\n",
            "Epoch 22/31\n",
            "1500/1500 [==============================] - 5s 3ms/step - loss: 0.1509 - accuracy: 0.9436 - val_loss: 0.3509 - val_accuracy: 0.8934\n",
            "Epoch 23/31\n",
            "1500/1500 [==============================] - 6s 4ms/step - loss: 0.1448 - accuracy: 0.9459 - val_loss: 0.3984 - val_accuracy: 0.8833\n",
            "Epoch 24/31\n",
            "1500/1500 [==============================] - 5s 3ms/step - loss: 0.1421 - accuracy: 0.9465 - val_loss: 0.4007 - val_accuracy: 0.8837\n",
            "Epoch 25/31\n",
            "1500/1500 [==============================] - 4s 3ms/step - loss: 0.1368 - accuracy: 0.9485 - val_loss: 0.3751 - val_accuracy: 0.8971\n",
            "Epoch 26/31\n",
            "1500/1500 [==============================] - 5s 4ms/step - loss: 0.1327 - accuracy: 0.9498 - val_loss: 0.3842 - val_accuracy: 0.8941\n",
            "Epoch 27/31\n",
            "1500/1500 [==============================] - 4s 3ms/step - loss: 0.1316 - accuracy: 0.9505 - val_loss: 0.3642 - val_accuracy: 0.9006\n",
            "Epoch 28/31\n",
            "1500/1500 [==============================] - 5s 4ms/step - loss: 0.1252 - accuracy: 0.9526 - val_loss: 0.4030 - val_accuracy: 0.8910\n",
            "Epoch 29/31\n",
            "1500/1500 [==============================] - 5s 3ms/step - loss: 0.1219 - accuracy: 0.9550 - val_loss: 0.3876 - val_accuracy: 0.8933\n",
            "Epoch 30/31\n",
            "1500/1500 [==============================] - 4s 3ms/step - loss: 0.1192 - accuracy: 0.9556 - val_loss: 0.3966 - val_accuracy: 0.8955\n",
            "Epoch 31/31\n",
            "1500/1500 [==============================] - 5s 4ms/step - loss: 0.1179 - accuracy: 0.9560 - val_loss: 0.3990 - val_accuracy: 0.8911\n"
          ]
        },
        {
          "output_type": "execute_result",
          "data": {
            "text/plain": [
              "<keras.src.callbacks.History at 0x7875783a8f40>"
            ]
          },
          "metadata": {},
          "execution_count": 12
        }
      ],
      "source": [
        "hypermodel = tuner.hypermodel.build(best_hps)\n",
        "\n",
        "# Retrain the model\n",
        "hypermodel.fit(img_train, label_train, epochs=best_epoch, validation_split=0.2)"
      ]
    },
    {
      "cell_type": "markdown",
      "metadata": {
        "id": "MqU5ZVAaag2v"
      },
      "source": [
        "To finish this tutorial, evaluate the hypermodel on the test data."
      ]
    },
    {
      "cell_type": "code",
      "execution_count": null,
      "metadata": {
        "id": "9E0BTp9Ealjb",
        "colab": {
          "base_uri": "https://localhost:8080/"
        },
        "outputId": "8e4b461d-c187-41e2-c033-0b4d0ad455d8"
      },
      "outputs": [
        {
          "output_type": "stream",
          "name": "stdout",
          "text": [
            "313/313 [==============================] - 1s 2ms/step - loss: 0.4513 - accuracy: 0.8849\n",
            "[test loss, test accuracy]: [0.45134273171424866, 0.8848999738693237]\n"
          ]
        }
      ],
      "source": [
        "eval_result = hypermodel.evaluate(img_test, label_test)\n",
        "print(\"[test loss, test accuracy]:\", eval_result)"
      ]
    },
    {
      "cell_type": "markdown",
      "metadata": {
        "id": "EQRpPHZsz-eC"
      },
      "source": [
        "The `my_dir/intro_to_kt` directory contains detailed logs and checkpoints for every trial (model configuration) run during the hyperparameter search. If you re-run the hyperparameter search, the Keras Tuner uses the existing state from these logs to resume the search. To disable this behavior, pass an additional `overwrite=True` argument while instantiating the tuner."
      ]
    },
    {
      "cell_type": "markdown",
      "metadata": {
        "id": "sKwLOzKpFGAj"
      },
      "source": [
        "## Summary\n",
        "\n",
        "In this tutorial, you learned how to use the Keras Tuner to tune hyperparameters for a model. To learn more about the Keras Tuner, check out these additional resources:\n",
        "\n",
        "* [Keras Tuner on the TensorFlow blog](https://blog.tensorflow.org/2020/01/hyperparameter-tuning-with-keras-tuner.html)\n",
        "* [Keras Tuner website](https://keras-team.github.io/keras-tuner/)\n",
        "\n",
        "Also check out the [HParams Dashboard](https://www.tensorflow.org/tensorboard/hyperparameter_tuning_with_hparams) in TensorBoard to interactively tune your model hyperparameters."
      ]
    }
  ],
  "metadata": {
    "accelerator": "GPU",
    "colab": {
      "collapsed_sections": [
        "Tce3stUlHN0L"
      ],
      "toc_visible": true,
      "provenance": []
    },
    "kernelspec": {
      "display_name": "Python 3",
      "name": "python3"
    }
  },
  "nbformat": 4,
  "nbformat_minor": 0
}
