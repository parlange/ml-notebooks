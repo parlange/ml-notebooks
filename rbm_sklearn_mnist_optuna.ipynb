{
  "nbformat": 4,
  "nbformat_minor": 0,
  "metadata": {
    "colab": {
      "provenance": [],
      "machine_shape": "hm",
      "gpuType": "T4"
    },
    "kernelspec": {
      "name": "python3",
      "display_name": "Python 3"
    },
    "language_info": {
      "name": "python"
    }
  },
  "cells": [
    {
      "cell_type": "markdown",
      "source": [
        "## René Parlange, MSc\n",
        "### 📚 Machine Learning Course, PhD in Computer Science\n",
        "#### 🎓 Instructor: Juan Carlos Cuevas Tello, PhD\n",
        "#### 🏛 Universidad Autónoma de San Luis Potosí (UASLP)\n",
        "\n",
        "🔗 [GitHub Repository](https://github.com/parlange/ml-notebooks)"
      ],
      "metadata": {
        "id": "vmyIOJJRJhdA"
      }
    },
    {
      "cell_type": "markdown",
      "source": [
        "# scikit-learn BernoulliRBM with Optuna hyperparameter search"
      ],
      "metadata": {
        "id": "mM0zYWTUX7BQ"
      }
    },
    {
      "cell_type": "markdown",
      "source": [
        "## install optuna with pip and ! (terminal command) in Colab"
      ],
      "metadata": {
        "id": "7s7JLxumDjLt"
      }
    },
    {
      "cell_type": "code",
      "execution_count": null,
      "metadata": {
        "colab": {
          "base_uri": "https://localhost:8080/"
        },
        "id": "2ZPHhtwXtgoZ",
        "outputId": "bf5cf374-2031-4fd6-eec6-1112dc641c3d"
      },
      "outputs": [
        {
          "output_type": "stream",
          "name": "stdout",
          "text": [
            "Collecting optuna\n",
            "  Downloading optuna-3.4.0-py3-none-any.whl (409 kB)\n",
            "\u001b[2K     \u001b[90m━━━━━━━━━━━━━━━━━━━━━━━━━━━━━━━━━━━━━━━━\u001b[0m \u001b[32m409.6/409.6 kB\u001b[0m \u001b[31m7.3 MB/s\u001b[0m eta \u001b[36m0:00:00\u001b[0m\n",
            "\u001b[?25hCollecting alembic>=1.5.0 (from optuna)\n",
            "  Downloading alembic-1.12.0-py3-none-any.whl (226 kB)\n",
            "\u001b[2K     \u001b[90m━━━━━━━━━━━━━━━━━━━━━━━━━━━━━━━━━━━━━━━━\u001b[0m \u001b[32m226.0/226.0 kB\u001b[0m \u001b[31m28.1 MB/s\u001b[0m eta \u001b[36m0:00:00\u001b[0m\n",
            "\u001b[?25hCollecting colorlog (from optuna)\n",
            "  Downloading colorlog-6.7.0-py2.py3-none-any.whl (11 kB)\n",
            "Requirement already satisfied: numpy in /usr/local/lib/python3.10/dist-packages (from optuna) (1.23.5)\n",
            "Requirement already satisfied: packaging>=20.0 in /usr/local/lib/python3.10/dist-packages (from optuna) (23.2)\n",
            "Requirement already satisfied: sqlalchemy>=1.3.0 in /usr/local/lib/python3.10/dist-packages (from optuna) (2.0.21)\n",
            "Requirement already satisfied: tqdm in /usr/local/lib/python3.10/dist-packages (from optuna) (4.66.1)\n",
            "Requirement already satisfied: PyYAML in /usr/local/lib/python3.10/dist-packages (from optuna) (6.0.1)\n",
            "Collecting Mako (from alembic>=1.5.0->optuna)\n",
            "  Downloading Mako-1.2.4-py3-none-any.whl (78 kB)\n",
            "\u001b[2K     \u001b[90m━━━━━━━━━━━━━━━━━━━━━━━━━━━━━━━━━━━━━━━━\u001b[0m \u001b[32m78.7/78.7 kB\u001b[0m \u001b[31m9.4 MB/s\u001b[0m eta \u001b[36m0:00:00\u001b[0m\n",
            "\u001b[?25hRequirement already satisfied: typing-extensions>=4 in /usr/local/lib/python3.10/dist-packages (from alembic>=1.5.0->optuna) (4.5.0)\n",
            "Requirement already satisfied: greenlet!=0.4.17 in /usr/local/lib/python3.10/dist-packages (from sqlalchemy>=1.3.0->optuna) (3.0.0)\n",
            "Requirement already satisfied: MarkupSafe>=0.9.2 in /usr/local/lib/python3.10/dist-packages (from Mako->alembic>=1.5.0->optuna) (2.1.3)\n",
            "Installing collected packages: Mako, colorlog, alembic, optuna\n",
            "Successfully installed Mako-1.2.4 alembic-1.12.0 colorlog-6.7.0 optuna-3.4.0\n"
          ]
        }
      ],
      "source": [
        "!pip install optuna"
      ]
    },
    {
      "cell_type": "markdown",
      "source": [
        "## dataset: MNIST"
      ],
      "metadata": {
        "id": "QSl-Oqw9YFcT"
      }
    },
    {
      "cell_type": "code",
      "source": [
        "import numpy as np\n",
        "import optuna\n",
        "from sklearn.neural_network import BernoulliRBM\n",
        "from sklearn.linear_model import LogisticRegression\n",
        "from sklearn.pipeline import Pipeline\n",
        "from sklearn.datasets import fetch_openml, load_digits\n",
        "from sklearn.preprocessing import minmax_scale\n",
        "from sklearn.model_selection import train_test_split, cross_val_score\n",
        "from sklearn.metrics import classification_report\n",
        "import time\n",
        "\n",
        "# Start time measurement\n",
        "start_time = time.time()\n",
        "\n",
        "digits = load_digits()\n",
        "X = digits.data\n",
        "Y = digits.target.astype(int)\n",
        "X_scaled = minmax_scale(X, feature_range=(0, 1))\n",
        "X_train, X_test, y_train, y_test = train_test_split(X_scaled, Y, test_size=0.2, random_state=42)\n",
        "\n",
        "def objective(trial):\n",
        "    n_components = trial.suggest_int(\"n_components\", 50, 200, step=50)\n",
        "    learning_rate = trial.suggest_float(\"learning_rate\", 0.01, 0.1, log=True)\n",
        "    batch_size = trial.suggest_int(\"batch_size\", 10, 50)\n",
        "    n_iter = trial.suggest_int(\"n_iter\", 10, 20, step=5)\n",
        "\n",
        "    rbm = BernoulliRBM(n_components=n_components, learning_rate=learning_rate, batch_size=batch_size, n_iter=n_iter, random_state=42)\n",
        "    classifier = LogisticRegression(max_iter=1000, solver=\"saga\")\n",
        "    pipeline = Pipeline(steps=[('rbm', rbm), ('classifier', classifier)])\n",
        "\n",
        "    return cross_val_score(pipeline, X_train, y_train, n_jobs=-1, cv=3).mean()\n",
        "\n",
        "study = optuna.create_study(direction=\"maximize\")\n",
        "study.optimize(objective, n_trials=100)\n",
        "\n",
        "print(f\"Best trial score: {study.best_value}\")\n",
        "print(f\"Best trial params: {study.best_params}\")\n",
        "\n",
        "best_params = study.best_params\n",
        "rbm_best = BernoulliRBM(n_components=best_params[\"n_components\"], learning_rate=best_params[\"learning_rate\"], batch_size=best_params[\"batch_size\"], n_iter=best_params[\"n_iter\"], random_state=42)\n",
        "classifier_best = LogisticRegression(max_iter=1000, solver=\"saga\")\n",
        "pipeline_best = Pipeline(steps=[('rbm', rbm_best), ('classifier', classifier_best)])\n",
        "pipeline_best.fit(X_train, y_train)\n",
        "\n",
        "y_pred_best = pipeline_best.predict(X_test)\n",
        "print('\\nClassification Report with Best Model:\\n', classification_report(y_test, y_pred_best, zero_division=1))\n",
        "\n",
        "# End time measurement and print execution time\n",
        "end_time = time.time()\n",
        "print(f\"\\nExecution time: {end_time - start_time:.2f} seconds\")"
      ],
      "metadata": {
        "colab": {
          "base_uri": "https://localhost:8080/"
        },
        "id": "xYbarDmotiPm",
        "outputId": "3e741a03-b5b1-43a6-8023-58d825c080f5"
      },
      "execution_count": null,
      "outputs": [
        {
          "output_type": "stream",
          "name": "stderr",
          "text": [
            "[I 2023-10-18 02:31:37,509] A new study created in memory with name: no-name-93836f17-0207-400c-b36f-4568adb118ee\n",
            "[I 2023-10-18 02:31:41,120] Trial 0 finished with value: 0.6464857341684064 and parameters: {'n_components': 150, 'learning_rate': 0.018029010525609453, 'batch_size': 28, 'n_iter': 20}. Best is trial 0 with value: 0.6464857341684064.\n",
            "[I 2023-10-18 02:31:42,291] Trial 1 finished with value: 0.49617258176757134 and parameters: {'n_components': 50, 'learning_rate': 0.013642758658827001, 'batch_size': 25, 'n_iter': 20}. Best is trial 0 with value: 0.6464857341684064.\n",
            "[I 2023-10-18 02:31:47,320] Trial 2 finished with value: 0.7125956854558106 and parameters: {'n_components': 200, 'learning_rate': 0.01463050031361257, 'batch_size': 18, 'n_iter': 15}. Best is trial 2 with value: 0.7125956854558106.\n",
            "[I 2023-10-18 02:31:48,318] Trial 3 finished with value: 0.6089074460681977 and parameters: {'n_components': 50, 'learning_rate': 0.03330768498402832, 'batch_size': 40, 'n_iter': 20}. Best is trial 2 with value: 0.7125956854558106.\n",
            "[I 2023-10-18 02:31:52,319] Trial 4 finished with value: 0.7800974251913709 and parameters: {'n_components': 200, 'learning_rate': 0.054383436502854356, 'batch_size': 31, 'n_iter': 20}. Best is trial 4 with value: 0.7800974251913709.\n",
            "[I 2023-10-18 02:31:53,300] Trial 5 finished with value: 0.5247042449547669 and parameters: {'n_components': 50, 'learning_rate': 0.016884649058296876, 'batch_size': 23, 'n_iter': 15}. Best is trial 4 with value: 0.7800974251913709.\n",
            "[I 2023-10-18 02:31:54,020] Trial 6 finished with value: 0.6402226861517049 and parameters: {'n_components': 100, 'learning_rate': 0.034936157906252915, 'batch_size': 18, 'n_iter': 10}. Best is trial 4 with value: 0.7800974251913709.\n",
            "[I 2023-10-18 02:31:55,366] Trial 7 finished with value: 0.5601948503827417 and parameters: {'n_components': 100, 'learning_rate': 0.04094861571624873, 'batch_size': 41, 'n_iter': 10}. Best is trial 4 with value: 0.7800974251913709.\n",
            "[I 2023-10-18 02:31:59,817] Trial 8 finished with value: 0.6061238691718859 and parameters: {'n_components': 150, 'learning_rate': 0.01570587586165126, 'batch_size': 25, 'n_iter': 10}. Best is trial 4 with value: 0.7800974251913709.\n",
            "[I 2023-10-18 02:32:02,584] Trial 9 finished with value: 0.5963813500347946 and parameters: {'n_components': 100, 'learning_rate': 0.012232327884036857, 'batch_size': 19, 'n_iter': 15}. Best is trial 4 with value: 0.7800974251913709.\n",
            "[I 2023-10-18 02:32:10,112] Trial 10 finished with value: 0.7849686847599164 and parameters: {'n_components': 200, 'learning_rate': 0.07514671203258852, 'batch_size': 48, 'n_iter': 20}. Best is trial 10 with value: 0.7849686847599164.\n",
            "[I 2023-10-18 02:32:14,016] Trial 11 finished with value: 0.7759220598469033 and parameters: {'n_components': 200, 'learning_rate': 0.08012069057146692, 'batch_size': 46, 'n_iter': 20}. Best is trial 10 with value: 0.7849686847599164.\n",
            "[I 2023-10-18 02:32:18,262] Trial 12 finished with value: 0.872651356993737 and parameters: {'n_components': 200, 'learning_rate': 0.07288322285537946, 'batch_size': 10, 'n_iter': 20}. Best is trial 12 with value: 0.872651356993737.\n",
            "[I 2023-10-18 02:32:20,077] Trial 13 finished with value: 0.8935281837160751 and parameters: {'n_components': 150, 'learning_rate': 0.09934471281294344, 'batch_size': 10, 'n_iter': 20}. Best is trial 13 with value: 0.8935281837160751.\n",
            "[I 2023-10-18 02:32:22,130] Trial 14 finished with value: 0.8733472512178149 and parameters: {'n_components': 150, 'learning_rate': 0.09883195100355932, 'batch_size': 10, 'n_iter': 15}. Best is trial 13 with value: 0.8935281837160751.\n",
            "[I 2023-10-18 02:32:22,711] Trial 15 finished with value: 0.10716771050800278 and parameters: {'n_components': 150, 'learning_rate': 0.09838608534709188, 'batch_size': 11, 'n_iter': 15}. Best is trial 13 with value: 0.8935281837160751.\n",
            "[I 2023-10-18 02:32:24,140] Trial 16 finished with value: 0.8427279053583856 and parameters: {'n_components': 150, 'learning_rate': 0.09933387549698945, 'batch_size': 14, 'n_iter': 15}. Best is trial 13 with value: 0.8935281837160751.\n",
            "[I 2023-10-18 02:32:24,659] Trial 17 finished with value: 0.4718162839248434 and parameters: {'n_components': 150, 'learning_rate': 0.05280461701617249, 'batch_size': 34, 'n_iter': 15}. Best is trial 13 with value: 0.8935281837160751.\n",
            "[I 2023-10-18 02:32:26,879] Trial 18 finished with value: 0.7418232428670842 and parameters: {'n_components': 100, 'learning_rate': 0.02476739035595231, 'batch_size': 14, 'n_iter': 15}. Best is trial 13 with value: 0.8935281837160751.\n",
            "[I 2023-10-18 02:32:31,419] Trial 19 finished with value: 0.778705636743215 and parameters: {'n_components': 150, 'learning_rate': 0.06042963045886212, 'batch_size': 13, 'n_iter': 10}. Best is trial 13 with value: 0.8935281837160751.\n",
            "[I 2023-10-18 02:32:34,323] Trial 20 finished with value: 0.7717466945024357 and parameters: {'n_components': 100, 'learning_rate': 0.04605104981456001, 'batch_size': 20, 'n_iter': 15}. Best is trial 13 with value: 0.8935281837160751.\n",
            "[I 2023-10-18 02:32:35,206] Trial 21 finished with value: 0.10716771050800278 and parameters: {'n_components': 200, 'learning_rate': 0.07260710671455807, 'batch_size': 11, 'n_iter': 20}. Best is trial 13 with value: 0.8935281837160751.\n",
            "[I 2023-10-18 02:32:37,924] Trial 22 finished with value: 0.8872651356993737 and parameters: {'n_components': 200, 'learning_rate': 0.08660732111707405, 'batch_size': 10, 'n_iter': 20}. Best is trial 13 with value: 0.8935281837160751.\n",
            "[I 2023-10-18 02:32:39,252] Trial 23 finished with value: 0.8677800974251914 and parameters: {'n_components': 150, 'learning_rate': 0.0988206809613329, 'batch_size': 14, 'n_iter': 20}. Best is trial 13 with value: 0.8935281837160751.\n",
            "[I 2023-10-18 02:32:45,181] Trial 24 finished with value: 0.8281141266527489 and parameters: {'n_components': 150, 'learning_rate': 0.0632933856427488, 'batch_size': 16, 'n_iter': 20}. Best is trial 13 with value: 0.8935281837160751.\n",
            "[I 2023-10-18 02:32:51,136] Trial 25 finished with value: 0.8058455114822546 and parameters: {'n_components': 200, 'learning_rate': 0.08154253899826444, 'batch_size': 21, 'n_iter': 15}. Best is trial 13 with value: 0.8935281837160751.\n",
            "[I 2023-10-18 02:32:53,557] Trial 26 finished with value: 0.8851774530271399 and parameters: {'n_components': 150, 'learning_rate': 0.08852305325048342, 'batch_size': 10, 'n_iter': 20}. Best is trial 13 with value: 0.8935281837160751.\n",
            "[I 2023-10-18 02:33:00,815] Trial 27 finished with value: 0.8302018093249827 and parameters: {'n_components': 200, 'learning_rate': 0.06389157576351327, 'batch_size': 16, 'n_iter': 20}. Best is trial 13 with value: 0.8935281837160751.\n",
            "[I 2023-10-18 02:33:01,333] Trial 28 finished with value: 0.34446764091858034 and parameters: {'n_components': 150, 'learning_rate': 0.084438784910554, 'batch_size': 34, 'n_iter': 20}. Best is trial 13 with value: 0.8935281837160751.\n",
            "[I 2023-10-18 02:33:04,421] Trial 29 finished with value: 0.7578288100208767 and parameters: {'n_components': 100, 'learning_rate': 0.021587098308354775, 'batch_size': 16, 'n_iter': 20}. Best is trial 13 with value: 0.8935281837160751.\n",
            "[I 2023-10-18 02:33:04,990] Trial 30 finished with value: 0.10716771050800278 and parameters: {'n_components': 150, 'learning_rate': 0.08641479207704204, 'batch_size': 29, 'n_iter': 20}. Best is trial 13 with value: 0.8935281837160751.\n",
            "[I 2023-10-18 02:33:07,541] Trial 31 finished with value: 0.8677800974251914 and parameters: {'n_components': 150, 'learning_rate': 0.09045658785147122, 'batch_size': 10, 'n_iter': 15}. Best is trial 13 with value: 0.8935281837160751.\n",
            "[I 2023-10-18 02:33:11,601] Trial 32 finished with value: 0.8566457898399443 and parameters: {'n_components': 150, 'learning_rate': 0.07012136003185158, 'batch_size': 12, 'n_iter': 20}. Best is trial 13 with value: 0.8935281837160751.\n",
            "[I 2023-10-18 02:33:16,484] Trial 33 finished with value: 0.8427279053583856 and parameters: {'n_components': 150, 'learning_rate': 0.08335780422772825, 'batch_size': 16, 'n_iter': 20}. Best is trial 13 with value: 0.8935281837160751.\n",
            "[I 2023-10-18 02:33:18,396] Trial 34 finished with value: 0.8914405010438413 and parameters: {'n_components': 200, 'learning_rate': 0.09772416881172659, 'batch_size': 10, 'n_iter': 20}. Best is trial 13 with value: 0.8935281837160751.\n",
            "[I 2023-10-18 02:33:24,184] Trial 35 finished with value: 0.8455114822546973 and parameters: {'n_components': 200, 'learning_rate': 0.06767496576519597, 'batch_size': 13, 'n_iter': 20}. Best is trial 13 with value: 0.8935281837160751.\n",
            "[I 2023-10-18 02:33:30,706] Trial 36 finished with value: 0.8211551844119694 and parameters: {'n_components': 200, 'learning_rate': 0.0777024679651872, 'batch_size': 23, 'n_iter': 20}. Best is trial 13 with value: 0.8935281837160751.\n",
            "[I 2023-10-18 02:33:31,658] Trial 37 finished with value: 0.8079331941544886 and parameters: {'n_components': 200, 'learning_rate': 0.08887391627344224, 'batch_size': 18, 'n_iter': 20}. Best is trial 13 with value: 0.8935281837160751.\n",
            "[I 2023-10-18 02:33:32,797] Trial 38 finished with value: 0.7585247042449548 and parameters: {'n_components': 50, 'learning_rate': 0.05712808578043872, 'batch_size': 26, 'n_iter': 20}. Best is trial 13 with value: 0.8935281837160751.\n",
            "[I 2023-10-18 02:33:38,280] Trial 39 finished with value: 0.8128044537230341 and parameters: {'n_components': 200, 'learning_rate': 0.06932571565313202, 'batch_size': 22, 'n_iter': 20}. Best is trial 13 with value: 0.8935281837160751.\n",
            "[I 2023-10-18 02:33:46,940] Trial 40 finished with value: 0.8343771746694503 and parameters: {'n_components': 200, 'learning_rate': 0.05223457282658518, 'batch_size': 12, 'n_iter': 20}. Best is trial 13 with value: 0.8935281837160751.\n",
            "[I 2023-10-18 02:33:49,192] Trial 41 finished with value: 0.8712595685455811 and parameters: {'n_components': 150, 'learning_rate': 0.09951720111669704, 'batch_size': 10, 'n_iter': 15}. Best is trial 13 with value: 0.8935281837160751.\n",
            "[I 2023-10-18 02:33:51,953] Trial 42 finished with value: 0.8622129436325677 and parameters: {'n_components': 150, 'learning_rate': 0.08866595322500999, 'batch_size': 10, 'n_iter': 15}. Best is trial 13 with value: 0.8935281837160751.\n",
            "[I 2023-10-18 02:33:54,383] Trial 43 finished with value: 0.8455114822546973 and parameters: {'n_components': 100, 'learning_rate': 0.07864233451707153, 'batch_size': 15, 'n_iter': 20}. Best is trial 13 with value: 0.8935281837160751.\n",
            "[I 2023-10-18 02:33:59,908] Trial 44 finished with value: 0.8615170494084898 and parameters: {'n_components': 200, 'learning_rate': 0.07441609076953394, 'batch_size': 12, 'n_iter': 20}. Best is trial 13 with value: 0.8935281837160751.\n",
            "[I 2023-10-18 02:34:00,466] Trial 45 finished with value: 0.6945024356297842 and parameters: {'n_components': 150, 'learning_rate': 0.09185762242583448, 'batch_size': 18, 'n_iter': 10}. Best is trial 13 with value: 0.8935281837160751.\n",
            "[I 2023-10-18 02:34:06,284] Trial 46 finished with value: 0.7780097425191371 and parameters: {'n_components': 200, 'learning_rate': 0.09116330455831284, 'batch_size': 40, 'n_iter': 15}. Best is trial 13 with value: 0.8935281837160751.\n",
            "[I 2023-10-18 02:34:07,249] Trial 47 finished with value: 0.8573416840640222 and parameters: {'n_components': 50, 'learning_rate': 0.08008205571224708, 'batch_size': 12, 'n_iter': 20}. Best is trial 13 with value: 0.8935281837160751.\n",
            "[I 2023-10-18 02:34:08,632] Trial 48 finished with value: 0.8768267223382047 and parameters: {'n_components': 100, 'learning_rate': 0.09943495552319453, 'batch_size': 10, 'n_iter': 15}. Best is trial 13 with value: 0.8935281837160751.\n",
            "[I 2023-10-18 02:34:10,115] Trial 49 finished with value: 0.8399443284620739 and parameters: {'n_components': 100, 'learning_rate': 0.0648740093779758, 'batch_size': 14, 'n_iter': 20}. Best is trial 13 with value: 0.8935281837160751.\n",
            "[I 2023-10-18 02:34:10,788] Trial 50 finished with value: 0.7780097425191371 and parameters: {'n_components': 100, 'learning_rate': 0.07506507721365592, 'batch_size': 18, 'n_iter': 20}. Best is trial 13 with value: 0.8935281837160751.\n",
            "[I 2023-10-18 02:34:12,142] Trial 51 finished with value: 0.8823938761308282 and parameters: {'n_components': 100, 'learning_rate': 0.09969561546541152, 'batch_size': 10, 'n_iter': 15}. Best is trial 13 with value: 0.8935281837160751.\n",
            "[I 2023-10-18 02:34:13,907] Trial 52 finished with value: 0.8580375782881001 and parameters: {'n_components': 100, 'learning_rate': 0.09210573288024085, 'batch_size': 12, 'n_iter': 15}. Best is trial 13 with value: 0.8935281837160751.\n",
            "[I 2023-10-18 02:34:15,269] Trial 53 finished with value: 0.8823938761308282 and parameters: {'n_components': 100, 'learning_rate': 0.09939851975898208, 'batch_size': 10, 'n_iter': 15}. Best is trial 13 with value: 0.8935281837160751.\n",
            "[I 2023-10-18 02:34:15,849] Trial 54 finished with value: 0.7807933194154488 and parameters: {'n_components': 50, 'learning_rate': 0.08283099581187875, 'batch_size': 14, 'n_iter': 10}. Best is trial 13 with value: 0.8935281837160751.\n",
            "[I 2023-10-18 02:34:16,322] Trial 55 finished with value: 0.10716771050800278 and parameters: {'n_components': 100, 'learning_rate': 0.09217137167626463, 'batch_size': 11, 'n_iter': 15}. Best is trial 13 with value: 0.8935281837160751.\n",
            "[I 2023-10-18 02:34:18,564] Trial 56 finished with value: 0.7348643006263048 and parameters: {'n_components': 100, 'learning_rate': 0.07123274979309308, 'batch_size': 44, 'n_iter': 15}. Best is trial 13 with value: 0.8935281837160751.\n",
            "[I 2023-10-18 02:34:20,556] Trial 57 finished with value: 0.8357689631176061 and parameters: {'n_components': 100, 'learning_rate': 0.07885773416421447, 'batch_size': 13, 'n_iter': 15}. Best is trial 13 with value: 0.8935281837160751.\n",
            "[I 2023-10-18 02:34:22,868] Trial 58 finished with value: 0.8524704244954767 and parameters: {'n_components': 100, 'learning_rate': 0.08494999043001736, 'batch_size': 15, 'n_iter': 20}. Best is trial 13 with value: 0.8935281837160751.\n",
            "[I 2023-10-18 02:34:23,327] Trial 59 finished with value: 0.8288100208768268 and parameters: {'n_components': 50, 'learning_rate': 0.09953200523523213, 'batch_size': 17, 'n_iter': 15}. Best is trial 13 with value: 0.8935281837160751.\n",
            "[I 2023-10-18 02:34:28,355] Trial 60 finished with value: 0.7947112038970077 and parameters: {'n_components': 150, 'learning_rate': 0.0751891240226451, 'batch_size': 32, 'n_iter': 20}. Best is trial 13 with value: 0.8935281837160751.\n",
            "[I 2023-10-18 02:34:29,731] Trial 61 finished with value: 0.8810020876826723 and parameters: {'n_components': 100, 'learning_rate': 0.09965906475204812, 'batch_size': 10, 'n_iter': 15}. Best is trial 13 with value: 0.8935281837160751.\n",
            "[I 2023-10-18 02:34:30,189] Trial 62 finished with value: 0.10716771050800278 and parameters: {'n_components': 100, 'learning_rate': 0.0917929343964255, 'batch_size': 11, 'n_iter': 15}. Best is trial 13 with value: 0.8935281837160751.\n",
            "[I 2023-10-18 02:34:30,510] Trial 63 finished with value: 0.15448851774530273 and parameters: {'n_components': 100, 'learning_rate': 0.0865263038276681, 'batch_size': 50, 'n_iter': 15}. Best is trial 13 with value: 0.8935281837160751.\n",
            "[I 2023-10-18 02:34:31,970] Trial 64 finished with value: 0.871955462769659 and parameters: {'n_components': 100, 'learning_rate': 0.09366315679518382, 'batch_size': 10, 'n_iter': 15}. Best is trial 13 with value: 0.8935281837160751.\n",
            "[I 2023-10-18 02:34:33,968] Trial 65 finished with value: 0.8413361169102297 and parameters: {'n_components': 100, 'learning_rate': 0.08250865387790955, 'batch_size': 13, 'n_iter': 15}. Best is trial 13 with value: 0.8935281837160751.\n",
            "[I 2023-10-18 02:34:34,694] Trial 66 finished with value: 0.10716771050800278 and parameters: {'n_components': 200, 'learning_rate': 0.09482930318991432, 'batch_size': 11, 'n_iter': 15}. Best is trial 13 with value: 0.8935281837160751.\n",
            "[I 2023-10-18 02:34:37,090] Trial 67 finished with value: 0.8211551844119693 and parameters: {'n_components': 100, 'learning_rate': 0.09987280473294285, 'batch_size': 20, 'n_iter': 15}. Best is trial 13 with value: 0.8935281837160751.\n",
            "[I 2023-10-18 02:34:41,081] Trial 68 finished with value: 0.8469032707028532 and parameters: {'n_components': 150, 'learning_rate': 0.08402267105840856, 'batch_size': 15, 'n_iter': 20}. Best is trial 13 with value: 0.8935281837160751.\n",
            "[I 2023-10-18 02:34:46,622] Trial 69 finished with value: 0.7800974251913709 and parameters: {'n_components': 200, 'learning_rate': 0.06688127202613475, 'batch_size': 36, 'n_iter': 20}. Best is trial 13 with value: 0.8935281837160751.\n",
            "[I 2023-10-18 02:34:50,338] Trial 70 finished with value: 0.8427279053583856 and parameters: {'n_components': 150, 'learning_rate': 0.08772808581024215, 'batch_size': 13, 'n_iter': 15}. Best is trial 13 with value: 0.8935281837160751.\n",
            "[I 2023-10-18 02:34:51,796] Trial 71 finished with value: 0.8761308281141268 and parameters: {'n_components': 100, 'learning_rate': 0.0954809604545498, 'batch_size': 10, 'n_iter': 15}. Best is trial 13 with value: 0.8935281837160751.\n",
            "[I 2023-10-18 02:34:52,276] Trial 72 finished with value: 0.10716771050800278 and parameters: {'n_components': 100, 'learning_rate': 0.07820912798208543, 'batch_size': 11, 'n_iter': 15}. Best is trial 13 with value: 0.8935281837160751.\n",
            "[I 2023-10-18 02:34:53,884] Trial 73 finished with value: 0.871955462769659 and parameters: {'n_components': 100, 'learning_rate': 0.0878566872518749, 'batch_size': 10, 'n_iter': 15}. Best is trial 13 with value: 0.8935281837160751.\n",
            "[I 2023-10-18 02:34:55,493] Trial 74 finished with value: 0.8649965205288797 and parameters: {'n_components': 100, 'learning_rate': 0.0998457696219966, 'batch_size': 12, 'n_iter': 15}. Best is trial 13 with value: 0.8935281837160751.\n",
            "[I 2023-10-18 02:34:56,582] Trial 75 finished with value: 0.8434237995824635 and parameters: {'n_components': 100, 'learning_rate': 0.09437383805032563, 'batch_size': 14, 'n_iter': 15}. Best is trial 13 with value: 0.8935281837160751.\n",
            "[I 2023-10-18 02:35:00,843] Trial 76 finished with value: 0.8747390396659708 and parameters: {'n_components': 200, 'learning_rate': 0.0735386035214064, 'batch_size': 10, 'n_iter': 20}. Best is trial 13 with value: 0.8935281837160751.\n",
            "[I 2023-10-18 02:35:02,842] Trial 77 finished with value: 0.8441196938065415 and parameters: {'n_components': 100, 'learning_rate': 0.08233721866563726, 'batch_size': 13, 'n_iter': 15}. Best is trial 13 with value: 0.8935281837160751.\n",
            "[I 2023-10-18 02:35:06,351] Trial 78 finished with value: 0.8322894919972165 and parameters: {'n_components': 150, 'learning_rate': 0.09986158572801515, 'batch_size': 12, 'n_iter': 10}. Best is trial 13 with value: 0.8935281837160751.\n",
            "[I 2023-10-18 02:35:07,329] Trial 79 finished with value: 0.8510786360473208 and parameters: {'n_components': 50, 'learning_rate': 0.08932244506957321, 'batch_size': 15, 'n_iter': 20}. Best is trial 13 with value: 0.8935281837160751.\n",
            "[I 2023-10-18 02:35:11,349] Trial 80 finished with value: 0.7954070981210856 and parameters: {'n_components': 200, 'learning_rate': 0.0696879498709072, 'batch_size': 27, 'n_iter': 20}. Best is trial 13 with value: 0.8935281837160751.\n",
            "[I 2023-10-18 02:35:12,842] Trial 81 finished with value: 0.8747390396659709 and parameters: {'n_components': 100, 'learning_rate': 0.0934116128157708, 'batch_size': 10, 'n_iter': 15}. Best is trial 13 with value: 0.8935281837160751.\n",
            "[I 2023-10-18 02:35:13,285] Trial 82 finished with value: 0.10716771050800278 and parameters: {'n_components': 100, 'learning_rate': 0.0954126982644802, 'batch_size': 11, 'n_iter': 15}. Best is trial 13 with value: 0.8935281837160751.\n",
            "[I 2023-10-18 02:35:14,887] Trial 83 finished with value: 0.8698677800974252 and parameters: {'n_components': 100, 'learning_rate': 0.08631303714730114, 'batch_size': 10, 'n_iter': 15}. Best is trial 13 with value: 0.8935281837160751.\n",
            "[I 2023-10-18 02:35:16,933] Trial 84 finished with value: 0.8357689631176061 and parameters: {'n_components': 100, 'learning_rate': 0.07797669952642924, 'batch_size': 13, 'n_iter': 15}. Best is trial 13 with value: 0.8935281837160751.\n",
            "[I 2023-10-18 02:35:17,394] Trial 85 finished with value: 0.10716771050800278 and parameters: {'n_components': 100, 'learning_rate': 0.09458721676068062, 'batch_size': 11, 'n_iter': 15}. Best is trial 13 with value: 0.8935281837160751.\n",
            "[I 2023-10-18 02:35:19,307] Trial 86 finished with value: 0.8545581071677105 and parameters: {'n_components': 100, 'learning_rate': 0.08670656184909167, 'batch_size': 12, 'n_iter': 15}. Best is trial 13 with value: 0.8935281837160751.\n",
            "[I 2023-10-18 02:35:20,034] Trial 87 finished with value: 0.10716771050800278 and parameters: {'n_components': 150, 'learning_rate': 0.08196567026572495, 'batch_size': 11, 'n_iter': 20}. Best is trial 13 with value: 0.8935281837160751.\n",
            "[I 2023-10-18 02:35:20,852] Trial 88 finished with value: 0.8232428670842032 and parameters: {'n_components': 100, 'learning_rate': 0.09510024018747608, 'batch_size': 17, 'n_iter': 15}. Best is trial 13 with value: 0.8935281837160751.\n",
            "[I 2023-10-18 02:35:23,140] Trial 89 finished with value: 0.8872651356993737 and parameters: {'n_components': 200, 'learning_rate': 0.0899153589650385, 'batch_size': 10, 'n_iter': 20}. Best is trial 13 with value: 0.8935281837160751.\n",
            "[I 2023-10-18 02:35:29,761] Trial 90 finished with value: 0.8524704244954767 and parameters: {'n_components': 200, 'learning_rate': 0.07746512442113095, 'batch_size': 15, 'n_iter': 20}. Best is trial 13 with value: 0.8935281837160751.\n",
            "[I 2023-10-18 02:35:32,027] Trial 91 finished with value: 0.884481558803062 and parameters: {'n_components': 200, 'learning_rate': 0.08893186374997299, 'batch_size': 10, 'n_iter': 20}. Best is trial 13 with value: 0.8935281837160751.\n",
            "[I 2023-10-18 02:35:36,226] Trial 92 finished with value: 0.8726513569937371 and parameters: {'n_components': 200, 'learning_rate': 0.08945094288989326, 'batch_size': 12, 'n_iter': 20}. Best is trial 13 with value: 0.8935281837160751.\n",
            "[I 2023-10-18 02:35:37,155] Trial 93 finished with value: 0.10716771050800278 and parameters: {'n_components': 200, 'learning_rate': 0.0825291616471246, 'batch_size': 11, 'n_iter': 20}. Best is trial 13 with value: 0.8935281837160751.\n",
            "[I 2023-10-18 02:35:39,155] Trial 94 finished with value: 0.8643006263048015 and parameters: {'n_components': 200, 'learning_rate': 0.08974501658156216, 'batch_size': 14, 'n_iter': 20}. Best is trial 13 with value: 0.8935281837160751.\n",
            "[I 2023-10-18 02:35:43,016] Trial 95 finished with value: 0.8698677800974252 and parameters: {'n_components': 200, 'learning_rate': 0.07321985675408049, 'batch_size': 10, 'n_iter': 20}. Best is trial 13 with value: 0.8935281837160751.\n",
            "[I 2023-10-18 02:35:47,114] Trial 96 finished with value: 0.8663883089770356 and parameters: {'n_components': 200, 'learning_rate': 0.08558438777960586, 'batch_size': 13, 'n_iter': 20}. Best is trial 13 with value: 0.8935281837160751.\n",
            "[I 2023-10-18 02:35:50,964] Trial 97 finished with value: 0.8810020876826723 and parameters: {'n_components': 200, 'learning_rate': 0.09546542626187496, 'batch_size': 12, 'n_iter': 20}. Best is trial 13 with value: 0.8935281837160751.\n",
            "[I 2023-10-18 02:35:56,460] Trial 98 finished with value: 0.8643006263048018 and parameters: {'n_components': 200, 'learning_rate': 0.07930464218115034, 'batch_size': 12, 'n_iter': 20}. Best is trial 13 with value: 0.8935281837160751.\n",
            "[I 2023-10-18 02:35:57,345] Trial 99 finished with value: 0.19206680584551147 and parameters: {'n_components': 200, 'learning_rate': 0.061256887474825474, 'batch_size': 11, 'n_iter': 20}. Best is trial 13 with value: 0.8935281837160751.\n"
          ]
        },
        {
          "output_type": "stream",
          "name": "stdout",
          "text": [
            "Best trial score: 0.8935281837160751\n",
            "Best trial params: {'n_components': 150, 'learning_rate': 0.09934471281294344, 'batch_size': 10, 'n_iter': 20}\n",
            "\n",
            "Classification Report with Best Model:\n",
            "               precision    recall  f1-score   support\n",
            "\n",
            "           0       0.97      1.00      0.99        33\n",
            "           1       0.89      0.89      0.89        28\n",
            "           2       0.94      0.94      0.94        33\n",
            "           3       1.00      0.85      0.92        34\n",
            "           4       1.00      0.98      0.99        46\n",
            "           5       0.93      0.83      0.88        47\n",
            "           6       0.97      0.97      0.97        35\n",
            "           7       0.94      0.97      0.96        34\n",
            "           8       0.76      0.87      0.81        30\n",
            "           9       0.78      0.88      0.82        40\n",
            "\n",
            "    accuracy                           0.92       360\n",
            "   macro avg       0.92      0.92      0.92       360\n",
            "weighted avg       0.92      0.92      0.92       360\n",
            "\n",
            "\n",
            "Execution time: 261.65 seconds\n"
          ]
        }
      ]
    }
  ]
}