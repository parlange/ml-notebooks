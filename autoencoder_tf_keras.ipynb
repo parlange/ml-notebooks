{
  "nbformat": 4,
  "nbformat_minor": 0,
  "metadata": {
    "colab": {
      "provenance": [],
      "machine_shape": "hm",
      "gpuType": "T4"
    },
    "kernelspec": {
      "name": "python3",
      "display_name": "Python 3"
    },
    "language_info": {
      "name": "python"
    },
    "accelerator": "GPU"
  },
  "cells": [
    {
      "cell_type": "markdown",
      "source": [
        "## René Parlange, MSc\n",
        "### 📚 Machine Learning Course, PhD in Computer Science\n",
        "#### 🎓 Instructor: Juan Carlos Cuevas Tello, PhD\n",
        "#### 🏛 Universidad Autónoma de San Luis Potosí (UASLP)\n",
        "\n",
        "🔗 [GitHub Repository](https://github.com/parlange)"
      ],
      "metadata": {
        "id": "4aCvzZAlJMU_"
      }
    },
    {
      "cell_type": "markdown",
      "source": [
        "# Autoencoder, Tensorflow and Keras"
      ],
      "metadata": {
        "id": "6vQAkTcEKapW"
      }
    },
    {
      "cell_type": "code",
      "execution_count": null,
      "metadata": {
        "id": "Qf-CLCMobx6w",
        "outputId": "a0918c63-a7cf-4a6f-8553-1a5c9f645980",
        "colab": {
          "base_uri": "https://localhost:8080/"
        }
      },
      "outputs": [
        {
          "output_type": "stream",
          "name": "stdout",
          "text": [
            "Training...\n",
            "Testing...\n",
            "1/1 [==============================] - 0s 49ms/step\n",
            "[[1. 1. 0. 0. 0. 0.]\n",
            " [0. 0. 1. 1. 0. 0.]\n",
            " [0. 0. 0. 0. 1. 1.]]\n",
            "\n",
            "Match: True\n",
            "\n",
            "Execution time: 4.745255470275879 seconds\n"
          ]
        }
      ],
      "source": [
        "import numpy as np\n",
        "import tensorflow as tf\n",
        "from tensorflow.keras.layers import Input, Dense\n",
        "from tensorflow.keras.models import Model\n",
        "import time\n",
        "\n",
        "# Define the input pattern\n",
        "Pattern = np.array([[1, 1, 0, 0, 0, 0],\n",
        "                    [0, 0, 1, 1, 0, 0],\n",
        "                    [0, 0, 0, 0, 1, 1]])\n",
        "\n",
        "start_time = time.time()\n",
        "\n",
        "Inputs = 6  # Number of input variables\n",
        "TrainData = Pattern[:, :Inputs]\n",
        "TestData = TrainData\n",
        "\n",
        "# Create an autoencoder model\n",
        "input_layer = Input(shape=(Inputs,))\n",
        "encoded = Dense(8, activation='relu')(input_layer)  # Encoder\n",
        "decoded = Dense(Inputs, activation='sigmoid')(encoded)  # Decoder\n",
        "\n",
        "autoencoder = Model(input_layer, decoded)\n",
        "\n",
        "# Compile the autoencoder\n",
        "autoencoder.compile(optimizer='adam', loss='mse')\n",
        "\n",
        "# Training stage\n",
        "print(\"Training...\")\n",
        "autoencoder.fit(TrainData, TrainData, epochs=1000, verbose=0)\n",
        "\n",
        "# Testing stage\n",
        "print(\"Testing...\")\n",
        "reconstructed_data = autoencoder.predict(TestData)\n",
        "\n",
        "print(reconstructed_data.round())\n",
        "\n",
        "# Check if the data matches\n",
        "match = (TrainData == reconstructed_data.round()).all()\n",
        "print(\"\\nMatch:\", match)\n",
        "\n",
        "# Print the execution time\n",
        "end_time = time.time()\n",
        "print(\"\\nExecution time:\", end_time - start_time, \"seconds\")"
      ]
    }
  ]
}