{
  "nbformat": 4,
  "nbformat_minor": 0,
  "metadata": {
    "colab": {
      "provenance": [],
      "gpuType": "T4"
    },
    "kernelspec": {
      "name": "python3",
      "display_name": "Python 3"
    },
    "language_info": {
      "name": "python"
    },
    "accelerator": "GPU"
  },
  "cells": [
    {
      "cell_type": "markdown",
      "source": [
        "## René Parlange, MSc\n",
        "### 📚 Machine Learning Course, PhD in Computer Science\n",
        "#### 🎓 Instructor: Juan Carlos Cuevas Tello, PhD\n",
        "#### 🏛 Universidad Autónoma de San Luis Potosí (UASLP)\n",
        "\n",
        "🔗 [GitHub Repository](https://github.com/parlange)"
      ],
      "metadata": {
        "id": "2jB3N2hN_waY"
      }
    },
    {
      "cell_type": "markdown",
      "source": [
        "# Neural Network Intelligence (NNI)\n",
        "### dataset: MNIST"
      ],
      "metadata": {
        "id": "ZqUWaGfp_x63"
      }
    },
    {
      "cell_type": "code",
      "execution_count": null,
      "metadata": {
        "colab": {
          "base_uri": "https://localhost:8080/"
        },
        "id": "SfAbYFBvwYRZ",
        "outputId": "d10aa3f4-9aa0-4fa7-fb65-05706a285ae1"
      },
      "outputs": [
        {
          "output_type": "stream",
          "name": "stdout",
          "text": [
            "ipython 7.34.0 requires jedi, which is not installed.\n",
            "lida 0.0.10 requires fastapi, which is not installed.\n",
            "lida 0.0.10 requires kaleido, which is not installed.\n",
            "lida 0.0.10 requires python-multipart, which is not installed.\n",
            "lida 0.0.10 requires uvicorn, which is not installed.\n",
            "llmx 0.0.15a0 requires cohere, which is not installed.\n",
            "llmx 0.0.15a0 requires openai, which is not installed.\n",
            "llmx 0.0.15a0 requires tiktoken, which is not installed.\n",
            "pygobject 3.42.1 requires pycairo, which is not installed.\n",
            "tensorflow 2.13.0 has requirement typing-extensions<4.6.0,>=3.6.6, but you have typing-extensions 4.8.0.\n",
            "Requirement already satisfied: nni in /usr/local/lib/python3.10/dist-packages (3.0)\n",
            "Requirement already satisfied: astor in /usr/local/lib/python3.10/dist-packages (from nni) (0.8.1)\n",
            "Requirement already satisfied: cloudpickle in /usr/local/lib/python3.10/dist-packages (from nni) (2.2.1)\n",
            "Requirement already satisfied: colorama in /usr/local/lib/python3.10/dist-packages (from nni) (0.4.6)\n",
            "Requirement already satisfied: filelock<3.12 in /usr/local/lib/python3.10/dist-packages (from nni) (3.11.0)\n",
            "Requirement already satisfied: json-tricks>=3.15.5 in /usr/local/lib/python3.10/dist-packages (from nni) (3.17.3)\n",
            "Requirement already satisfied: nvidia-ml-py in /usr/local/lib/python3.10/dist-packages (from nni) (12.535.108)\n",
            "Requirement already satisfied: packaging in /usr/local/lib/python3.10/dist-packages (from nni) (23.2)\n",
            "Requirement already satisfied: pandas in /usr/local/lib/python3.10/dist-packages (from nni) (1.5.3)\n",
            "Requirement already satisfied: prettytable in /usr/local/lib/python3.10/dist-packages (from nni) (3.9.0)\n",
            "Requirement already satisfied: psutil in /usr/local/lib/python3.10/dist-packages (from nni) (5.9.5)\n",
            "Requirement already satisfied: PythonWebHDFS in /usr/local/lib/python3.10/dist-packages (from nni) (0.2.3)\n",
            "Requirement already satisfied: pyyaml>=5.4 in /usr/local/lib/python3.10/dist-packages (from nni) (6.0.1)\n",
            "Requirement already satisfied: requests in /usr/local/lib/python3.10/dist-packages (from nni) (2.31.0)\n",
            "Requirement already satisfied: responses in /usr/local/lib/python3.10/dist-packages (from nni) (0.23.3)\n",
            "Requirement already satisfied: schema in /usr/local/lib/python3.10/dist-packages (from nni) (0.7.5)\n",
            "Requirement already satisfied: scikit-learn>=0.24.1 in /usr/local/lib/python3.10/dist-packages (from nni) (1.2.2)\n",
            "Requirement already satisfied: tqdm in /usr/local/lib/python3.10/dist-packages (from nni) (4.66.1)\n",
            "Requirement already satisfied: typeguard<4.1.3,>=3.0.0 in /usr/local/lib/python3.10/dist-packages (from nni) (4.1.2)\n",
            "Requirement already satisfied: typing-extensions>=4.7.0 in /usr/local/lib/python3.10/dist-packages (from nni) (4.8.0)\n",
            "Requirement already satisfied: websockets>=10.1 in /usr/local/lib/python3.10/dist-packages (from nni) (11.0.3)\n",
            "Requirement already satisfied: numpy in /usr/local/lib/python3.10/dist-packages (from nni) (1.23.5)\n",
            "Requirement already satisfied: scipy in /usr/local/lib/python3.10/dist-packages (from nni) (1.11.3)\n",
            "Requirement already satisfied: joblib>=1.1.1 in /usr/local/lib/python3.10/dist-packages (from scikit-learn>=0.24.1->nni) (1.3.2)\n",
            "Requirement already satisfied: threadpoolctl>=2.0.0 in /usr/local/lib/python3.10/dist-packages (from scikit-learn>=0.24.1->nni) (3.2.0)\n",
            "Requirement already satisfied: python-dateutil>=2.8.1 in /usr/local/lib/python3.10/dist-packages (from pandas->nni) (2.8.2)\n",
            "Requirement already satisfied: pytz>=2020.1 in /usr/local/lib/python3.10/dist-packages (from pandas->nni) (2023.3.post1)\n",
            "Requirement already satisfied: wcwidth in /usr/local/lib/python3.10/dist-packages (from prettytable->nni) (0.2.8)\n",
            "Requirement already satisfied: simplejson in /usr/local/lib/python3.10/dist-packages (from PythonWebHDFS->nni) (3.19.2)\n",
            "Requirement already satisfied: charset-normalizer<4,>=2 in /usr/local/lib/python3.10/dist-packages (from requests->nni) (3.3.0)\n",
            "Requirement already satisfied: idna<4,>=2.5 in /usr/local/lib/python3.10/dist-packages (from requests->nni) (3.4)\n",
            "Requirement already satisfied: urllib3<3,>=1.21.1 in /usr/local/lib/python3.10/dist-packages (from requests->nni) (2.0.6)\n",
            "Requirement already satisfied: certifi>=2017.4.17 in /usr/local/lib/python3.10/dist-packages (from requests->nni) (2023.7.22)\n",
            "Requirement already satisfied: types-PyYAML in /usr/local/lib/python3.10/dist-packages (from responses->nni) (6.0.12.12)\n",
            "Requirement already satisfied: contextlib2>=0.5.5 in /usr/local/lib/python3.10/dist-packages (from schema->nni) (21.6.0)\n",
            "Requirement already satisfied: six>=1.5 in /usr/local/lib/python3.10/dist-packages (from python-dateutil>=2.8.1->pandas->nni) (1.16.0)\n"
          ]
        }
      ],
      "source": [
        "!pip install typing-extensions>=4.2.0\n",
        "!pip check\n",
        "!pip install nni"
      ]
    },
    {
      "cell_type": "code",
      "source": [
        "import numpy as np\n",
        "import torch\n",
        "import torch.nn as nn\n",
        "import torch.optim as optim\n",
        "import torchvision\n",
        "import torchvision.transforms as transforms\n",
        "from sklearn.metrics import classification_report\n",
        "import time\n",
        "class Net(nn.Module):\n",
        "    def __init__(self, hidden_size):\n",
        "        super(Net, self).__init__()\n",
        "        self.fc1 = nn.Linear(28 * 28, hidden_size)\n",
        "        self.fc2 = nn.Linear(hidden_size, 10)\n",
        "\n",
        "    def forward(self, x):\n",
        "        x = x.view(-1, 28 * 28)\n",
        "        x = torch.relu(self.fc1(x))\n",
        "        x = self.fc2(x)\n",
        "        return x\n",
        "def train(hidden_size=128, lr=0.01):\n",
        "    transform = transforms.Compose([transforms.ToTensor(), transforms.Normalize((0.5,), (0.5,))])\n",
        "\n",
        "    train_dataset = torchvision.datasets.MNIST(root='./data', train=True, download=True, transform=transform)\n",
        "    train_loader = torch.utils.data.DataLoader(train_dataset, batch_size=32, shuffle=True)\n",
        "\n",
        "    test_dataset = torchvision.datasets.MNIST(root='./data', train=False, download=True, transform=transform)\n",
        "    test_loader = torch.utils.data.DataLoader(test_dataset, batch_size=1000, shuffle=False)\n",
        "\n",
        "    model = Net(hidden_size)\n",
        "    criterion = nn.CrossEntropyLoss()\n",
        "    optimizer = optim.SGD(model.parameters(), lr=lr)\n",
        "\n",
        "    for epoch in range(5):\n",
        "        for _, (inputs, labels) in enumerate(train_loader):\n",
        "            optimizer.zero_grad()\n",
        "            outputs = model(inputs)\n",
        "            loss = criterion(outputs, labels)\n",
        "            loss.backward()\n",
        "            optimizer.step()\n",
        "\n",
        "    true_labels = []\n",
        "    predicted_labels = []\n",
        "    with torch.no_grad():\n",
        "        for inputs, labels in test_loader:\n",
        "            outputs = model(inputs)\n",
        "            _, predicted = torch.max(outputs, 1)\n",
        "            true_labels.extend(labels.numpy())\n",
        "            predicted_labels.extend(predicted.numpy())\n",
        "\n",
        "    print(\"Classification report:\")\n",
        "    print(classification_report(true_labels, predicted_labels))\n",
        "start_time = time.time()\n",
        "train()\n",
        "end_time = time.time()\n",
        "\n",
        "print(f\"Training execution time: {end_time - start_time:.2f} seconds\")"
      ],
      "metadata": {
        "colab": {
          "base_uri": "https://localhost:8080/"
        },
        "id": "d_hNm86rwjzw",
        "outputId": "d4e4cbf8-46bd-41ac-84b0-73121f631487"
      },
      "execution_count": null,
      "outputs": [
        {
          "output_type": "stream",
          "name": "stdout",
          "text": [
            "Classification report:\n",
            "              precision    recall  f1-score   support\n",
            "\n",
            "           0       0.95      0.99      0.97       980\n",
            "           1       0.96      0.99      0.97      1135\n",
            "           2       0.94      0.94      0.94      1032\n",
            "           3       0.95      0.91      0.93      1010\n",
            "           4       0.93      0.95      0.94       982\n",
            "           5       0.92      0.93      0.92       892\n",
            "           6       0.95      0.94      0.95       958\n",
            "           7       0.94      0.94      0.94      1028\n",
            "           8       0.93      0.92      0.93       974\n",
            "           9       0.95      0.91      0.93      1009\n",
            "\n",
            "    accuracy                           0.94     10000\n",
            "   macro avg       0.94      0.94      0.94     10000\n",
            "weighted avg       0.94      0.94      0.94     10000\n",
            "\n",
            "Training execution time: 72.08 seconds\n"
          ]
        }
      ]
    }
  ]
}