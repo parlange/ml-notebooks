{
  "nbformat": 4,
  "nbformat_minor": 0,
  "metadata": {
    "colab": {
      "provenance": []
    },
    "kernelspec": {
      "name": "python3",
      "display_name": "Python 3"
    },
    "language_info": {
      "name": "python"
    }
  },
  "cells": [
    {
      "cell_type": "markdown",
      "source": [
        "## René Parlange, MSc\n",
        "### 📚 Machine Learning Course, PhD in Computer Science\n",
        "#### 🎓 Instructor: Juan Carlos Cuevas Tello, PhD\n",
        "#### 🏛 Universidad Autónoma de San Luis Potosí (UASLP)\n",
        "\n",
        "🔗 [GitHub Repository](https://github.com/parlange/ml-notebooks)"
      ],
      "metadata": {
        "id": "nGd-n3UvJY6j"
      }
    },
    {
      "cell_type": "markdown",
      "source": [
        "# Grid search on Bernoulli-Bernoulli Restricted Boltzmann Machine\n",
        "## dataset: iris (UCI)"
      ],
      "metadata": {
        "id": "XG-IiPLKXmUY"
      }
    },
    {
      "cell_type": "code",
      "execution_count": null,
      "metadata": {
        "colab": {
          "base_uri": "https://localhost:8080/"
        },
        "id": "cDi8VR9YB5QQ",
        "outputId": "6c13345f-7edd-4ee8-fffa-09333fa2715c"
      },
      "outputs": [
        {
          "output_type": "stream",
          "name": "stdout",
          "text": [
            "Fitting 5 folds for each of 256 candidates, totalling 1280 fits\n",
            "[BernoulliRBM] Iteration 1, pseudo-likelihood = -3.07, time = 0.01s\n",
            "[BernoulliRBM] Iteration 2, pseudo-likelihood = -2.76, time = 0.01s\n",
            "[BernoulliRBM] Iteration 3, pseudo-likelihood = -2.81, time = 0.01s\n",
            "[BernoulliRBM] Iteration 4, pseudo-likelihood = -2.91, time = 0.01s\n",
            "[BernoulliRBM] Iteration 5, pseudo-likelihood = -2.77, time = 0.01s\n",
            "[BernoulliRBM] Iteration 6, pseudo-likelihood = -3.05, time = 0.01s\n",
            "[BernoulliRBM] Iteration 7, pseudo-likelihood = -2.71, time = 0.01s\n",
            "[BernoulliRBM] Iteration 8, pseudo-likelihood = -2.77, time = 0.01s\n",
            "[BernoulliRBM] Iteration 9, pseudo-likelihood = -2.90, time = 0.01s\n",
            "[BernoulliRBM] Iteration 10, pseudo-likelihood = -2.98, time = 0.01s\n",
            "[BernoulliRBM] Iteration 11, pseudo-likelihood = -2.75, time = 0.01s\n",
            "[BernoulliRBM] Iteration 12, pseudo-likelihood = -2.90, time = 0.01s\n",
            "[BernoulliRBM] Iteration 13, pseudo-likelihood = -2.76, time = 0.01s\n",
            "[BernoulliRBM] Iteration 14, pseudo-likelihood = -2.77, time = 0.01s\n",
            "[BernoulliRBM] Iteration 15, pseudo-likelihood = -2.78, time = 0.01s\n",
            "[BernoulliRBM] Iteration 16, pseudo-likelihood = -2.77, time = 0.01s\n",
            "[BernoulliRBM] Iteration 17, pseudo-likelihood = -2.86, time = 0.01s\n",
            "[BernoulliRBM] Iteration 18, pseudo-likelihood = -2.80, time = 0.01s\n",
            "[BernoulliRBM] Iteration 19, pseudo-likelihood = -2.73, time = 0.01s\n",
            "[BernoulliRBM] Iteration 20, pseudo-likelihood = -2.75, time = 0.02s\n",
            "[BernoulliRBM] Iteration 21, pseudo-likelihood = -2.73, time = 0.01s\n",
            "[BernoulliRBM] Iteration 22, pseudo-likelihood = -2.76, time = 0.01s\n",
            "[BernoulliRBM] Iteration 23, pseudo-likelihood = -2.70, time = 0.01s\n",
            "[BernoulliRBM] Iteration 24, pseudo-likelihood = -2.73, time = 0.01s\n",
            "[BernoulliRBM] Iteration 25, pseudo-likelihood = -2.80, time = 0.01s\n",
            "[BernoulliRBM] Iteration 26, pseudo-likelihood = -2.69, time = 0.01s\n",
            "[BernoulliRBM] Iteration 27, pseudo-likelihood = -2.74, time = 0.01s\n",
            "[BernoulliRBM] Iteration 28, pseudo-likelihood = -2.72, time = 0.01s\n",
            "[BernoulliRBM] Iteration 29, pseudo-likelihood = -2.67, time = 0.01s\n",
            "[BernoulliRBM] Iteration 30, pseudo-likelihood = -2.69, time = 0.01s\n",
            "[BernoulliRBM] Iteration 31, pseudo-likelihood = -2.71, time = 0.01s\n",
            "[BernoulliRBM] Iteration 32, pseudo-likelihood = -2.71, time = 0.01s\n",
            "[BernoulliRBM] Iteration 33, pseudo-likelihood = -2.80, time = 0.01s\n",
            "[BernoulliRBM] Iteration 34, pseudo-likelihood = -2.77, time = 0.01s\n",
            "[BernoulliRBM] Iteration 35, pseudo-likelihood = -2.70, time = 0.02s\n",
            "[BernoulliRBM] Iteration 36, pseudo-likelihood = -2.71, time = 0.01s\n",
            "[BernoulliRBM] Iteration 37, pseudo-likelihood = -2.69, time = 0.01s\n",
            "[BernoulliRBM] Iteration 38, pseudo-likelihood = -2.71, time = 0.02s\n",
            "[BernoulliRBM] Iteration 39, pseudo-likelihood = -2.72, time = 0.01s\n",
            "[BernoulliRBM] Iteration 40, pseudo-likelihood = -2.78, time = 0.01s\n",
            "Best Hyperparameters: {'rbm__batch_size': 1, 'rbm__learning_rate': 0.1, 'rbm__n_components': 50, 'rbm__n_iter': 40}\n",
            "\n",
            "Classification Report with Best Model:\n",
            "               precision    recall  f1-score   support\n",
            "\n",
            "           0       1.00      1.00      1.00        10\n",
            "           1       1.00      0.56      0.71         9\n",
            "           2       0.73      1.00      0.85        11\n",
            "\n",
            "    accuracy                           0.87        30\n",
            "   macro avg       0.91      0.85      0.85        30\n",
            "weighted avg       0.90      0.87      0.86        30\n",
            "\n"
          ]
        }
      ],
      "source": [
        "from sklearn.neural_network import BernoulliRBM\n",
        "from sklearn.linear_model import LogisticRegression\n",
        "from sklearn.pipeline import Pipeline\n",
        "from sklearn.datasets import load_iris\n",
        "from sklearn.preprocessing import minmax_scale\n",
        "from sklearn.model_selection import train_test_split, GridSearchCV\n",
        "from sklearn.metrics import classification_report\n",
        "import time  # Import the time library to measure execution time\n",
        "\n",
        "# Load the IRIS dataset\n",
        "iris = load_iris()\n",
        "\n",
        "# Features\n",
        "X = iris.data\n",
        "# Targets\n",
        "Y = iris.target\n",
        "\n",
        "# Min-max scaling\n",
        "X_scaled = minmax_scale(X, feature_range=(0, 1))\n",
        "\n",
        "# Split the data into training and testing sets\n",
        "X_train, X_test, y_train, y_test = train_test_split(X_scaled, Y, test_size=0.2, random_state=42)\n",
        "\n",
        "# Create an RBM model\n",
        "rbm = BernoulliRBM(random_state=42, verbose=True)\n",
        "\n",
        "# Create a classifier\n",
        "classifier = LogisticRegression(max_iter=1000)\n",
        "\n",
        "# Create a pipeline combining RBM and classifier\n",
        "pipeline = Pipeline(steps=[('rbm', rbm), ('classifier', classifier)])\n",
        "\n",
        "# Define the hyperparameters and their possible values\n",
        "param_grid = {\n",
        "    'rbm__n_components': [50, 100, 150, 200],\n",
        "    'rbm__learning_rate': [0.01, 0.02, 0.05, 0.1],\n",
        "    'rbm__batch_size': [1, 5, 10, 20],\n",
        "    'rbm__n_iter': [10, 20, 30, 40]\n",
        "}\n",
        "\n",
        "# Create a GridSearchCV object\n",
        "grid_search = GridSearchCV(pipeline, param_grid, n_jobs=-1, cv=5, verbose=1)\n",
        "\n",
        "# Start the clock\n",
        "start_time = time.time()\n",
        "\n",
        "# Fit the grid search to the data\n",
        "grid_search.fit(X_train, y_train)\n",
        "\n",
        "# Print the best hyperparameters\n",
        "print(\"Best Hyperparameters:\", grid_search.best_params_)\n",
        "\n",
        "# Evaluate the best model on the test set\n",
        "y_pred_best = grid_search.best_estimator_.predict(X_test)\n",
        "print('\\nClassification Report with Best Model:\\n', classification_report(y_test, y_pred_best, zero_division=1))\n",
        "\n",
        "# Stop the clock and print the execution time\n",
        "end_time = time.time()\n",
        "print(\"\\nExecution time:\", end_time - start_time, \"seconds\")\n"
      ]
    }
  ]
}